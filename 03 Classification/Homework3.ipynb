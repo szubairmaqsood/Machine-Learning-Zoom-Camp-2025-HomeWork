{
 "cells": [
  {
   "cell_type": "code",
   "execution_count": 461,
   "id": "de80231d",
   "metadata": {},
   "outputs": [],
   "source": [
    "# Steps of homework\n",
    "#1. Importing libaries\n",
    "#2. Downloading dataset\n",
    "\n"
   ]
  },
  {
   "cell_type": "code",
   "execution_count": 462,
   "id": "25ec70c9",
   "metadata": {},
   "outputs": [],
   "source": [
    "# For playing with data\n",
    "import pandas as pd\n",
    "import numpy as np\n",
    "\n",
    "# For calculating mututal information score\n",
    "from sklearn.metrics import mutual_info_score\n",
    "\n",
    "# for data division between training, validation and testing\n",
    "from sklearn.model_selection import train_test_split\n",
    "\n",
    "\n",
    "# Preprocessing , trainig and for measuring logisitic regression model \n",
    "from sklearn.feature_extraction import DictVectorizer\n",
    "from sklearn.linear_model import LogisticRegression\n",
    "from sklearn.metrics import accuracy_score\n",
    "\n",
    "\n",
    "# Still need to document the purpose ()\n",
    "from IPython.display import display\n",
    "\n",
    "# for visulization\n",
    "import matplotlib.pyplot as plt\n",
    "import seaborn as sns\n"
   ]
  },
  {
   "cell_type": "code",
   "execution_count": 463,
   "id": "4e6200fe",
   "metadata": {},
   "outputs": [],
   "source": [
    "# Link to our dataset\n",
    "data_link = \"https://raw.githubusercontent.com/alexeygrigorev/datasets/master/course_lead_scoring.csv\"\n"
   ]
  },
  {
   "cell_type": "code",
   "execution_count": 464,
   "id": "5375477f",
   "metadata": {},
   "outputs": [
    {
     "name": "stdout",
     "output_type": "stream",
     "text": [
      "--2025-10-15 21:59:23--  https://raw.githubusercontent.com/alexeygrigorev/datasets/master/course_lead_scoring.csv\n",
      "Resolving raw.githubusercontent.com (raw.githubusercontent.com)... 185.199.111.133, 185.199.109.133, 185.199.110.133, ...\n",
      "Connecting to raw.githubusercontent.com (raw.githubusercontent.com)|185.199.111.133|:443... connected.\n",
      "HTTP request sent, awaiting response... 200 OK\n",
      "Length: 80876 (79K) [text/plain]\n",
      "Saving to: ‘data-homework-3.csv’\n",
      "\n",
      "data-homework-3.csv 100%[===================>]  78.98K  --.-KB/s    in 0.004s  \n",
      "\n",
      "2025-10-15 21:59:23 (19.4 MB/s) - ‘data-homework-3.csv’ saved [80876/80876]\n",
      "\n"
     ]
    }
   ],
   "source": [
    "# installing the data\n",
    "#This command downloads a file from the URL stored in $data using wget and saves it locally as data-week-3.csv.\n",
    "#The ! allows running the shell command inside a Jupyter or Colab notebook.\n",
    "!wget $data_link -O data-homework-3.csv "
   ]
  },
  {
   "cell_type": "code",
   "execution_count": 465,
   "id": "69f4ff47",
   "metadata": {},
   "outputs": [
    {
     "data": {
      "text/html": [
       "<div>\n",
       "<style scoped>\n",
       "    .dataframe tbody tr th:only-of-type {\n",
       "        vertical-align: middle;\n",
       "    }\n",
       "\n",
       "    .dataframe tbody tr th {\n",
       "        vertical-align: top;\n",
       "    }\n",
       "\n",
       "    .dataframe thead th {\n",
       "        text-align: right;\n",
       "    }\n",
       "</style>\n",
       "<table border=\"1\" class=\"dataframe\">\n",
       "  <thead>\n",
       "    <tr style=\"text-align: right;\">\n",
       "      <th></th>\n",
       "      <th>lead_source</th>\n",
       "      <th>industry</th>\n",
       "      <th>number_of_courses_viewed</th>\n",
       "      <th>annual_income</th>\n",
       "      <th>employment_status</th>\n",
       "      <th>location</th>\n",
       "      <th>interaction_count</th>\n",
       "      <th>lead_score</th>\n",
       "      <th>converted</th>\n",
       "    </tr>\n",
       "  </thead>\n",
       "  <tbody>\n",
       "    <tr>\n",
       "      <th>0</th>\n",
       "      <td>paid_ads</td>\n",
       "      <td>NaN</td>\n",
       "      <td>1</td>\n",
       "      <td>79450.0</td>\n",
       "      <td>unemployed</td>\n",
       "      <td>south_america</td>\n",
       "      <td>4</td>\n",
       "      <td>0.94</td>\n",
       "      <td>1</td>\n",
       "    </tr>\n",
       "    <tr>\n",
       "      <th>1</th>\n",
       "      <td>social_media</td>\n",
       "      <td>retail</td>\n",
       "      <td>1</td>\n",
       "      <td>46992.0</td>\n",
       "      <td>employed</td>\n",
       "      <td>south_america</td>\n",
       "      <td>1</td>\n",
       "      <td>0.80</td>\n",
       "      <td>0</td>\n",
       "    </tr>\n",
       "    <tr>\n",
       "      <th>2</th>\n",
       "      <td>events</td>\n",
       "      <td>healthcare</td>\n",
       "      <td>5</td>\n",
       "      <td>78796.0</td>\n",
       "      <td>unemployed</td>\n",
       "      <td>australia</td>\n",
       "      <td>3</td>\n",
       "      <td>0.69</td>\n",
       "      <td>1</td>\n",
       "    </tr>\n",
       "    <tr>\n",
       "      <th>3</th>\n",
       "      <td>paid_ads</td>\n",
       "      <td>retail</td>\n",
       "      <td>2</td>\n",
       "      <td>83843.0</td>\n",
       "      <td>NaN</td>\n",
       "      <td>australia</td>\n",
       "      <td>1</td>\n",
       "      <td>0.87</td>\n",
       "      <td>0</td>\n",
       "    </tr>\n",
       "    <tr>\n",
       "      <th>4</th>\n",
       "      <td>referral</td>\n",
       "      <td>education</td>\n",
       "      <td>3</td>\n",
       "      <td>85012.0</td>\n",
       "      <td>self_employed</td>\n",
       "      <td>europe</td>\n",
       "      <td>3</td>\n",
       "      <td>0.62</td>\n",
       "      <td>1</td>\n",
       "    </tr>\n",
       "  </tbody>\n",
       "</table>\n",
       "</div>"
      ],
      "text/plain": [
       "    lead_source    industry  number_of_courses_viewed  annual_income  \\\n",
       "0      paid_ads         NaN                         1        79450.0   \n",
       "1  social_media      retail                         1        46992.0   \n",
       "2        events  healthcare                         5        78796.0   \n",
       "3      paid_ads      retail                         2        83843.0   \n",
       "4      referral   education                         3        85012.0   \n",
       "\n",
       "  employment_status       location  interaction_count  lead_score  converted  \n",
       "0        unemployed  south_america                  4        0.94          1  \n",
       "1          employed  south_america                  1        0.80          0  \n",
       "2        unemployed      australia                  3        0.69          1  \n",
       "3               NaN      australia                  1        0.87          0  \n",
       "4     self_employed         europe                  3        0.62          1  "
      ]
     },
     "execution_count": 465,
     "metadata": {},
     "output_type": "execute_result"
    }
   ],
   "source": [
    "# using data frame to read the csv file\n",
    "df = pd.read_csv(\"data-homework-3.csv\")\n",
    "df.head()"
   ]
  },
  {
   "cell_type": "code",
   "execution_count": 466,
   "id": "b8c103e8",
   "metadata": {},
   "outputs": [
    {
     "data": {
      "text/html": [
       "<div>\n",
       "<style scoped>\n",
       "    .dataframe tbody tr th:only-of-type {\n",
       "        vertical-align: middle;\n",
       "    }\n",
       "\n",
       "    .dataframe tbody tr th {\n",
       "        vertical-align: top;\n",
       "    }\n",
       "\n",
       "    .dataframe thead th {\n",
       "        text-align: right;\n",
       "    }\n",
       "</style>\n",
       "<table border=\"1\" class=\"dataframe\">\n",
       "  <thead>\n",
       "    <tr style=\"text-align: right;\">\n",
       "      <th></th>\n",
       "      <th>0</th>\n",
       "      <th>1</th>\n",
       "      <th>2</th>\n",
       "      <th>3</th>\n",
       "      <th>4</th>\n",
       "    </tr>\n",
       "  </thead>\n",
       "  <tbody>\n",
       "    <tr>\n",
       "      <th>lead_source</th>\n",
       "      <td>paid_ads</td>\n",
       "      <td>social_media</td>\n",
       "      <td>events</td>\n",
       "      <td>paid_ads</td>\n",
       "      <td>referral</td>\n",
       "    </tr>\n",
       "    <tr>\n",
       "      <th>industry</th>\n",
       "      <td>NaN</td>\n",
       "      <td>retail</td>\n",
       "      <td>healthcare</td>\n",
       "      <td>retail</td>\n",
       "      <td>education</td>\n",
       "    </tr>\n",
       "    <tr>\n",
       "      <th>number_of_courses_viewed</th>\n",
       "      <td>1</td>\n",
       "      <td>1</td>\n",
       "      <td>5</td>\n",
       "      <td>2</td>\n",
       "      <td>3</td>\n",
       "    </tr>\n",
       "    <tr>\n",
       "      <th>annual_income</th>\n",
       "      <td>79450.0</td>\n",
       "      <td>46992.0</td>\n",
       "      <td>78796.0</td>\n",
       "      <td>83843.0</td>\n",
       "      <td>85012.0</td>\n",
       "    </tr>\n",
       "    <tr>\n",
       "      <th>employment_status</th>\n",
       "      <td>unemployed</td>\n",
       "      <td>employed</td>\n",
       "      <td>unemployed</td>\n",
       "      <td>NaN</td>\n",
       "      <td>self_employed</td>\n",
       "    </tr>\n",
       "    <tr>\n",
       "      <th>location</th>\n",
       "      <td>south_america</td>\n",
       "      <td>south_america</td>\n",
       "      <td>australia</td>\n",
       "      <td>australia</td>\n",
       "      <td>europe</td>\n",
       "    </tr>\n",
       "    <tr>\n",
       "      <th>interaction_count</th>\n",
       "      <td>4</td>\n",
       "      <td>1</td>\n",
       "      <td>3</td>\n",
       "      <td>1</td>\n",
       "      <td>3</td>\n",
       "    </tr>\n",
       "    <tr>\n",
       "      <th>lead_score</th>\n",
       "      <td>0.94</td>\n",
       "      <td>0.8</td>\n",
       "      <td>0.69</td>\n",
       "      <td>0.87</td>\n",
       "      <td>0.62</td>\n",
       "    </tr>\n",
       "    <tr>\n",
       "      <th>converted</th>\n",
       "      <td>1</td>\n",
       "      <td>0</td>\n",
       "      <td>1</td>\n",
       "      <td>0</td>\n",
       "      <td>1</td>\n",
       "    </tr>\n",
       "  </tbody>\n",
       "</table>\n",
       "</div>"
      ],
      "text/plain": [
       "                                      0              1           2          3  \\\n",
       "lead_source                    paid_ads   social_media      events   paid_ads   \n",
       "industry                            NaN         retail  healthcare     retail   \n",
       "number_of_courses_viewed              1              1           5          2   \n",
       "annual_income                   79450.0        46992.0     78796.0    83843.0   \n",
       "employment_status            unemployed       employed  unemployed        NaN   \n",
       "location                  south_america  south_america   australia  australia   \n",
       "interaction_count                     4              1           3          1   \n",
       "lead_score                         0.94            0.8        0.69       0.87   \n",
       "converted                             1              0           1          0   \n",
       "\n",
       "                                      4  \n",
       "lead_source                    referral  \n",
       "industry                      education  \n",
       "number_of_courses_viewed              3  \n",
       "annual_income                   85012.0  \n",
       "employment_status         self_employed  \n",
       "location                         europe  \n",
       "interaction_count                     3  \n",
       "lead_score                         0.62  \n",
       "converted                             1  "
      ]
     },
     "execution_count": 466,
     "metadata": {},
     "output_type": "execute_result"
    }
   ],
   "source": [
    "# Make visulization of columns easy\n",
    "df.head().T"
   ]
  },
  {
   "cell_type": "code",
   "execution_count": 467,
   "id": "3b4644a7",
   "metadata": {},
   "outputs": [
    {
     "data": {
      "text/plain": [
       "lead_source                  object\n",
       "industry                     object\n",
       "number_of_courses_viewed      int64\n",
       "annual_income               float64\n",
       "employment_status            object\n",
       "location                     object\n",
       "interaction_count             int64\n",
       "lead_score                  float64\n",
       "converted                     int64\n",
       "dtype: object"
      ]
     },
     "execution_count": 467,
     "metadata": {},
     "output_type": "execute_result"
    }
   ],
   "source": [
    "# Checking types of different columns, some columns are object (String), int64 and float64\n",
    "df.dtypes"
   ]
  },
  {
   "cell_type": "code",
   "execution_count": 468,
   "id": "723080ce",
   "metadata": {},
   "outputs": [
    {
     "name": "stdout",
     "output_type": "stream",
     "text": [
      "['number_of_courses_viewed', 'annual_income', 'interaction_count', 'lead_score']\n",
      "['lead_source', 'industry', 'employment_status', 'location']\n"
     ]
    }
   ],
   "source": [
    "\n",
    "# Checking the numeric and non numeric columns  (Applying a filter based on data types)\n",
    "\n",
    "exclude_cols = ['converted'] # is is target column\n",
    "numerical_columns = [\n",
    "    col for col in df.dtypes[df.dtypes != 'object'].index if col not in exclude_cols\n",
    "]\n",
    "categorial_columns = list(df.dtypes [df.dtypes == 'object'].index)\n",
    "\n",
    "print(numerical_columns)\n",
    "print(categorial_columns)"
   ]
  },
  {
   "cell_type": "code",
   "execution_count": 469,
   "id": "d441f0c4",
   "metadata": {},
   "outputs": [
    {
     "data": {
      "text/plain": [
       "lead_source                 128\n",
       "industry                    134\n",
       "number_of_courses_viewed      0\n",
       "annual_income               181\n",
       "employment_status           100\n",
       "location                     63\n",
       "interaction_count             0\n",
       "lead_score                    0\n",
       "converted                     0\n",
       "dtype: int64"
      ]
     },
     "execution_count": 469,
     "metadata": {},
     "output_type": "execute_result"
    }
   ],
   "source": [
    "# Checking which columns contain null\n",
    "df.isnull().sum()"
   ]
  },
  {
   "cell_type": "code",
   "execution_count": 470,
   "id": "24a9e54f",
   "metadata": {},
   "outputs": [],
   "source": [
    "# Dealing with absense of values in data (NAN,)\n",
    "df[numerical_columns] = df[numerical_columns].fillna(0.0) # Numerical with Zero\n",
    "df[categorial_columns] = df[categorial_columns].fillna('NA') # Categorical with 'NA'"
   ]
  },
  {
   "cell_type": "code",
   "execution_count": 471,
   "id": "630c234d",
   "metadata": {},
   "outputs": [
    {
     "data": {
      "text/html": [
       "<div>\n",
       "<style scoped>\n",
       "    .dataframe tbody tr th:only-of-type {\n",
       "        vertical-align: middle;\n",
       "    }\n",
       "\n",
       "    .dataframe tbody tr th {\n",
       "        vertical-align: top;\n",
       "    }\n",
       "\n",
       "    .dataframe thead th {\n",
       "        text-align: right;\n",
       "    }\n",
       "</style>\n",
       "<table border=\"1\" class=\"dataframe\">\n",
       "  <thead>\n",
       "    <tr style=\"text-align: right;\">\n",
       "      <th></th>\n",
       "      <th>lead_source</th>\n",
       "      <th>industry</th>\n",
       "      <th>number_of_courses_viewed</th>\n",
       "      <th>annual_income</th>\n",
       "      <th>employment_status</th>\n",
       "      <th>location</th>\n",
       "      <th>interaction_count</th>\n",
       "      <th>lead_score</th>\n",
       "      <th>converted</th>\n",
       "    </tr>\n",
       "  </thead>\n",
       "  <tbody>\n",
       "    <tr>\n",
       "      <th>0</th>\n",
       "      <td>paid_ads</td>\n",
       "      <td>NA</td>\n",
       "      <td>1</td>\n",
       "      <td>79450.0</td>\n",
       "      <td>unemployed</td>\n",
       "      <td>south_america</td>\n",
       "      <td>4</td>\n",
       "      <td>0.94</td>\n",
       "      <td>1</td>\n",
       "    </tr>\n",
       "    <tr>\n",
       "      <th>1</th>\n",
       "      <td>social_media</td>\n",
       "      <td>retail</td>\n",
       "      <td>1</td>\n",
       "      <td>46992.0</td>\n",
       "      <td>employed</td>\n",
       "      <td>south_america</td>\n",
       "      <td>1</td>\n",
       "      <td>0.80</td>\n",
       "      <td>0</td>\n",
       "    </tr>\n",
       "    <tr>\n",
       "      <th>2</th>\n",
       "      <td>events</td>\n",
       "      <td>healthcare</td>\n",
       "      <td>5</td>\n",
       "      <td>78796.0</td>\n",
       "      <td>unemployed</td>\n",
       "      <td>australia</td>\n",
       "      <td>3</td>\n",
       "      <td>0.69</td>\n",
       "      <td>1</td>\n",
       "    </tr>\n",
       "    <tr>\n",
       "      <th>3</th>\n",
       "      <td>paid_ads</td>\n",
       "      <td>retail</td>\n",
       "      <td>2</td>\n",
       "      <td>83843.0</td>\n",
       "      <td>NA</td>\n",
       "      <td>australia</td>\n",
       "      <td>1</td>\n",
       "      <td>0.87</td>\n",
       "      <td>0</td>\n",
       "    </tr>\n",
       "    <tr>\n",
       "      <th>4</th>\n",
       "      <td>referral</td>\n",
       "      <td>education</td>\n",
       "      <td>3</td>\n",
       "      <td>85012.0</td>\n",
       "      <td>self_employed</td>\n",
       "      <td>europe</td>\n",
       "      <td>3</td>\n",
       "      <td>0.62</td>\n",
       "      <td>1</td>\n",
       "    </tr>\n",
       "    <tr>\n",
       "      <th>...</th>\n",
       "      <td>...</td>\n",
       "      <td>...</td>\n",
       "      <td>...</td>\n",
       "      <td>...</td>\n",
       "      <td>...</td>\n",
       "      <td>...</td>\n",
       "      <td>...</td>\n",
       "      <td>...</td>\n",
       "      <td>...</td>\n",
       "    </tr>\n",
       "    <tr>\n",
       "      <th>1457</th>\n",
       "      <td>referral</td>\n",
       "      <td>manufacturing</td>\n",
       "      <td>1</td>\n",
       "      <td>0.0</td>\n",
       "      <td>self_employed</td>\n",
       "      <td>north_america</td>\n",
       "      <td>4</td>\n",
       "      <td>0.53</td>\n",
       "      <td>1</td>\n",
       "    </tr>\n",
       "    <tr>\n",
       "      <th>1458</th>\n",
       "      <td>referral</td>\n",
       "      <td>technology</td>\n",
       "      <td>3</td>\n",
       "      <td>65259.0</td>\n",
       "      <td>student</td>\n",
       "      <td>europe</td>\n",
       "      <td>2</td>\n",
       "      <td>0.24</td>\n",
       "      <td>1</td>\n",
       "    </tr>\n",
       "    <tr>\n",
       "      <th>1459</th>\n",
       "      <td>paid_ads</td>\n",
       "      <td>technology</td>\n",
       "      <td>1</td>\n",
       "      <td>45688.0</td>\n",
       "      <td>student</td>\n",
       "      <td>north_america</td>\n",
       "      <td>3</td>\n",
       "      <td>0.02</td>\n",
       "      <td>1</td>\n",
       "    </tr>\n",
       "    <tr>\n",
       "      <th>1460</th>\n",
       "      <td>referral</td>\n",
       "      <td>NA</td>\n",
       "      <td>5</td>\n",
       "      <td>71016.0</td>\n",
       "      <td>self_employed</td>\n",
       "      <td>north_america</td>\n",
       "      <td>0</td>\n",
       "      <td>0.25</td>\n",
       "      <td>1</td>\n",
       "    </tr>\n",
       "    <tr>\n",
       "      <th>1461</th>\n",
       "      <td>organic_search</td>\n",
       "      <td>finance</td>\n",
       "      <td>3</td>\n",
       "      <td>92855.0</td>\n",
       "      <td>student</td>\n",
       "      <td>north_america</td>\n",
       "      <td>3</td>\n",
       "      <td>0.41</td>\n",
       "      <td>1</td>\n",
       "    </tr>\n",
       "  </tbody>\n",
       "</table>\n",
       "<p>1462 rows × 9 columns</p>\n",
       "</div>"
      ],
      "text/plain": [
       "         lead_source       industry  number_of_courses_viewed  annual_income  \\\n",
       "0           paid_ads             NA                         1        79450.0   \n",
       "1       social_media         retail                         1        46992.0   \n",
       "2             events     healthcare                         5        78796.0   \n",
       "3           paid_ads         retail                         2        83843.0   \n",
       "4           referral      education                         3        85012.0   \n",
       "...              ...            ...                       ...            ...   \n",
       "1457        referral  manufacturing                         1            0.0   \n",
       "1458        referral     technology                         3        65259.0   \n",
       "1459        paid_ads     technology                         1        45688.0   \n",
       "1460        referral             NA                         5        71016.0   \n",
       "1461  organic_search        finance                         3        92855.0   \n",
       "\n",
       "     employment_status       location  interaction_count  lead_score  \\\n",
       "0           unemployed  south_america                  4        0.94   \n",
       "1             employed  south_america                  1        0.80   \n",
       "2           unemployed      australia                  3        0.69   \n",
       "3                   NA      australia                  1        0.87   \n",
       "4        self_employed         europe                  3        0.62   \n",
       "...                ...            ...                ...         ...   \n",
       "1457     self_employed  north_america                  4        0.53   \n",
       "1458           student         europe                  2        0.24   \n",
       "1459           student  north_america                  3        0.02   \n",
       "1460     self_employed  north_america                  0        0.25   \n",
       "1461           student  north_america                  3        0.41   \n",
       "\n",
       "      converted  \n",
       "0             1  \n",
       "1             0  \n",
       "2             1  \n",
       "3             0  \n",
       "4             1  \n",
       "...         ...  \n",
       "1457          1  \n",
       "1458          1  \n",
       "1459          1  \n",
       "1460          1  \n",
       "1461          1  \n",
       "\n",
       "[1462 rows x 9 columns]"
      ]
     },
     "execution_count": 471,
     "metadata": {},
     "output_type": "execute_result"
    }
   ],
   "source": [
    "df"
   ]
  },
  {
   "cell_type": "code",
   "execution_count": 472,
   "id": "b6e82f47",
   "metadata": {},
   "outputs": [
    {
     "data": {
      "text/plain": [
       "lead_source                 0\n",
       "industry                    0\n",
       "number_of_courses_viewed    0\n",
       "annual_income               0\n",
       "employment_status           0\n",
       "location                    0\n",
       "interaction_count           0\n",
       "lead_score                  0\n",
       "converted                   0\n",
       "dtype: int64"
      ]
     },
     "execution_count": 472,
     "metadata": {},
     "output_type": "execute_result"
    }
   ],
   "source": [
    "# Checking which columns contain null\n",
    "df.isnull().sum()"
   ]
  },
  {
   "cell_type": "code",
   "execution_count": 473,
   "id": "8527df65",
   "metadata": {},
   "outputs": [
    {
     "data": {
      "text/plain": [
       "lead_source          6\n",
       "industry             8\n",
       "employment_status    5\n",
       "location             8\n",
       "dtype: int64"
      ]
     },
     "execution_count": 473,
     "metadata": {},
     "output_type": "execute_result"
    }
   ],
   "source": [
    "# Number of unique values in each categorical column\n",
    "df[categorial_columns].nunique()"
   ]
  },
  {
   "cell_type": "code",
   "execution_count": 474,
   "id": "fc878f6f",
   "metadata": {},
   "outputs": [
    {
     "data": {
      "text/plain": [
       "industry\n",
       "retail           203\n",
       "finance          200\n",
       "other            198\n",
       "healthcare       187\n",
       "education        187\n",
       "technology       179\n",
       "manufacturing    174\n",
       "NA               134\n",
       "Name: count, dtype: int64"
      ]
     },
     "execution_count": 474,
     "metadata": {},
     "output_type": "execute_result"
    }
   ],
   "source": [
    "# Finding presence of a particular value in a column\n",
    "column_name = 'industry'\n",
    "df[column_name].value_counts()"
   ]
  },
  {
   "cell_type": "code",
   "execution_count": 475,
   "id": "63488ba0",
   "metadata": {},
   "outputs": [
    {
     "name": "stdout",
     "output_type": "stream",
     "text": [
      "                          number_of_courses_viewed  annual_income  \\\n",
      "number_of_courses_viewed                  1.000000       0.009770   \n",
      "annual_income                             0.009770       1.000000   \n",
      "interaction_count                        -0.023565       0.027036   \n",
      "lead_score                               -0.004879       0.015610   \n",
      "\n",
      "                          interaction_count  lead_score  \n",
      "number_of_courses_viewed          -0.023565   -0.004879  \n",
      "annual_income                      0.027036    0.015610  \n",
      "interaction_count                  1.000000    0.009888  \n",
      "lead_score                         0.009888    1.000000  \n"
     ]
    },
    {
     "data": {
      "image/png": "[encoded data removed]",
      "text/plain": [
       "<Figure size 640x480 with 2 Axes>"
      ]
     },
     "metadata": {},
     "output_type": "display_data"
    }
   ],
   "source": [
    "# Creating a correlation matrix\n",
    "#A matrix is an array of numbers arranged in rows and columns.\n",
    "#A correlation matrix is simply a table showing the correlation coefficients between variables.\n",
    "# The values ranges are between -1 and 1\n",
    "# Columns needs to be numerical\n",
    "# How to interpert different values\n",
    "# If you see all the options are between numerical columns\n",
    "\n",
    "\n",
    "# \n",
    "\n",
    "correlation_matrix =  df[numerical_columns].corr()\n",
    "\n",
    "print(correlation_matrix)\n",
    "\n",
    "\n",
    "\n",
    "# Visulization using seaborn library\n",
    "axis_corr = sns.heatmap(\n",
    "correlation_matrix,      # data you want to visualize\n",
    "vmin=-1, vmax=1, center=0,   #minimum and maximum values for the color scale\n",
    "cmap=sns.diverging_palette(50, 500, n=500), # creates a gradient that diverges around a center value\n",
    "square=True # Makes each cell in the heatmap a perfect square,\n",
    ")\n",
    "\n",
    "plt.show()\n",
    "\n",
    "\n",
    "\n",
    "\n",
    "\n",
    "\n",
    "\n",
    "\n",
    "\n",
    "# What we will do after creating correlation matrix\n",
    "\n"
   ]
  },
  {
   "cell_type": "code",
   "execution_count": 476,
   "id": "0dd0789b",
   "metadata": {},
   "outputs": [
    {
     "name": "stdout",
     "output_type": "stream",
     "text": [
      "Maximum correlation: 0.02703647240481443\n",
      "Columns with max correlation: ('annual_income', 'interaction_count')\n"
     ]
    }
   ],
   "source": [
    "# Compute correlation matrix\n",
    "corr_matrix = df[numerical_columns].corr()\n",
    "\n",
    "# Replace diagonal (self-correlation = 1) with NaN so it’s ignored\n",
    "np.fill_diagonal(corr_matrix.values, np.nan)\n",
    "\n",
    "# Find the max correlation\n",
    "max_corr = corr_matrix.max().max()\n",
    "print(\"Maximum correlation:\", max_corr)\n",
    "\n",
    "# Find which pair of columns has this correlation\n",
    "max_pair = corr_matrix.stack().idxmax()\n",
    "print(\"Columns with max correlation:\", max_pair)"
   ]
  },
  {
   "cell_type": "code",
   "execution_count": 477,
   "id": "466bd694",
   "metadata": {},
   "outputs": [
    {
     "name": "stdout",
     "output_type": "stream",
     "text": [
      "Column: lead_source\n",
      "['paid_ads' 'social_media' 'events' 'referral' 'organic_search' 'NA']\n",
      "----------------------------------------\n",
      "Column: industry\n",
      "['NA' 'retail' 'healthcare' 'education' 'manufacturing' 'technology'\n",
      " 'other' 'finance']\n",
      "----------------------------------------\n",
      "Column: employment_status\n",
      "['unemployed' 'employed' 'NA' 'self_employed' 'student']\n",
      "----------------------------------------\n",
      "Column: location\n",
      "['south_america' 'australia' 'europe' 'africa' 'middle_east' 'NA'\n",
      " 'north_america' 'asia']\n",
      "----------------------------------------\n"
     ]
    }
   ],
   "source": [
    "\n",
    "\n",
    "# Loop through each column and print unique values\n",
    "for col in categorial_columns:\n",
    "    unique_vals = df[col].unique()\n",
    "    print(f\"Column: {col}\")\n",
    "    print(unique_vals)\n",
    "    print('-' * 40)"
   ]
  },
  {
   "cell_type": "code",
   "execution_count": 478,
   "id": "bb8b6804",
   "metadata": {},
   "outputs": [
    {
     "name": "stdout",
     "output_type": "stream",
     "text": [
      "lead_source\n",
      "NA                0.671875\n",
      "events            0.596000\n",
      "organic_search    0.617021\n",
      "paid_ads          0.446970\n",
      "referral          0.807692\n",
      "social_media      0.604317\n",
      "Name: converted, dtype: float64\n"
     ]
    }
   ],
   "source": [
    "#doing some analysis on churn values\n",
    "# Calculate mean churn for each gender automatically\n",
    "churn_by_gender = df.groupby('lead_source')['converted'].mean()\n",
    "\n",
    "print(churn_by_gender)"
   ]
  },
  {
   "cell_type": "code",
   "execution_count": 479,
   "id": "6e8cb7bd",
   "metadata": {},
   "outputs": [
    {
     "data": {
      "text/plain": [
       "np.float64(0.6190150478796169)"
      ]
     },
     "execution_count": 479,
     "metadata": {},
     "output_type": "execute_result"
    }
   ],
   "source": [
    "global_converted = df.converted.mean()\n",
    "global_converted"
   ]
  },
  {
   "cell_type": "code",
   "execution_count": 480,
   "id": "ac745bb9",
   "metadata": {},
   "outputs": [
    {
     "name": "stdout",
     "output_type": "stream",
     "text": [
      "lead_source\n",
      "NA                0.671875\n",
      "events            0.596000\n",
      "organic_search    0.617021\n",
      "paid_ads          0.446970\n",
      "referral          0.807692\n",
      "social_media      0.604317\n",
      "Name: converted, dtype: float64\n",
      "--------------------------------------------\n",
      "industry\n",
      "NA               0.559701\n",
      "education        0.748663\n",
      "finance          0.595000\n",
      "healthcare       0.604278\n",
      "manufacturing    0.666667\n",
      "other            0.611111\n",
      "retail           0.586207\n",
      "technology       0.569832\n",
      "Name: converted, dtype: float64\n",
      "--------------------------------------------\n",
      "employment_status\n",
      "NA               0.560000\n",
      "employed         0.689024\n",
      "self_employed    0.653409\n",
      "student          0.652299\n",
      "unemployed       0.497006\n",
      "Name: converted, dtype: float64\n",
      "--------------------------------------------\n",
      "location\n",
      "NA               0.698413\n",
      "africa           0.601064\n",
      "asia             0.620513\n",
      "australia        0.605405\n",
      "europe           0.652778\n",
      "middle_east      0.631313\n",
      "north_america    0.595556\n",
      "south_america    0.598958\n",
      "Name: converted, dtype: float64\n",
      "--------------------------------------------\n"
     ]
    }
   ],
   "source": [
    "for col in categorial_columns:\n",
    "    converted_by_column = df.groupby(col)['converted'].mean()\n",
    "    print(converted_by_column)\n",
    "    print(\"--------------------------------------------\")"
   ]
  },
  {
   "cell_type": "code",
   "execution_count": 481,
   "id": "d315f8f2",
   "metadata": {},
   "outputs": [
    {
     "name": "stdout",
     "output_type": "stream",
     "text": [
      "lead_source\n"
     ]
    },
    {
     "data": {
      "text/html": [
       "<div>\n",
       "<style scoped>\n",
       "    .dataframe tbody tr th:only-of-type {\n",
       "        vertical-align: middle;\n",
       "    }\n",
       "\n",
       "    .dataframe tbody tr th {\n",
       "        vertical-align: top;\n",
       "    }\n",
       "\n",
       "    .dataframe thead th {\n",
       "        text-align: right;\n",
       "    }\n",
       "</style>\n",
       "<table border=\"1\" class=\"dataframe\">\n",
       "  <thead>\n",
       "    <tr style=\"text-align: right;\">\n",
       "      <th></th>\n",
       "      <th>mean</th>\n",
       "      <th>count</th>\n",
       "      <th>diff</th>\n",
       "      <th>risk</th>\n",
       "    </tr>\n",
       "    <tr>\n",
       "      <th>lead_source</th>\n",
       "      <th></th>\n",
       "      <th></th>\n",
       "      <th></th>\n",
       "      <th></th>\n",
       "    </tr>\n",
       "  </thead>\n",
       "  <tbody>\n",
       "    <tr>\n",
       "      <th>NA</th>\n",
       "      <td>0.671875</td>\n",
       "      <td>128</td>\n",
       "      <td>0.052860</td>\n",
       "      <td>1.085394</td>\n",
       "    </tr>\n",
       "    <tr>\n",
       "      <th>events</th>\n",
       "      <td>0.596000</td>\n",
       "      <td>250</td>\n",
       "      <td>-0.023015</td>\n",
       "      <td>0.962820</td>\n",
       "    </tr>\n",
       "    <tr>\n",
       "      <th>organic_search</th>\n",
       "      <td>0.617021</td>\n",
       "      <td>282</td>\n",
       "      <td>-0.001994</td>\n",
       "      <td>0.996779</td>\n",
       "    </tr>\n",
       "    <tr>\n",
       "      <th>paid_ads</th>\n",
       "      <td>0.446970</td>\n",
       "      <td>264</td>\n",
       "      <td>-0.172045</td>\n",
       "      <td>0.722066</td>\n",
       "    </tr>\n",
       "    <tr>\n",
       "      <th>referral</th>\n",
       "      <td>0.807692</td>\n",
       "      <td>260</td>\n",
       "      <td>0.188677</td>\n",
       "      <td>1.304802</td>\n",
       "    </tr>\n",
       "    <tr>\n",
       "      <th>social_media</th>\n",
       "      <td>0.604317</td>\n",
       "      <td>278</td>\n",
       "      <td>-0.014699</td>\n",
       "      <td>0.976255</td>\n",
       "    </tr>\n",
       "  </tbody>\n",
       "</table>\n",
       "</div>"
      ],
      "text/plain": [
       "                    mean  count      diff      risk\n",
       "lead_source                                        \n",
       "NA              0.671875    128  0.052860  1.085394\n",
       "events          0.596000    250 -0.023015  0.962820\n",
       "organic_search  0.617021    282 -0.001994  0.996779\n",
       "paid_ads        0.446970    264 -0.172045  0.722066\n",
       "referral        0.807692    260  0.188677  1.304802\n",
       "social_media    0.604317    278 -0.014699  0.976255"
      ]
     },
     "metadata": {},
     "output_type": "display_data"
    },
    {
     "name": "stdout",
     "output_type": "stream",
     "text": [
      "\n",
      "\n",
      "industry\n"
     ]
    },
    {
     "data": {
      "text/html": [
       "<div>\n",
       "<style scoped>\n",
       "    .dataframe tbody tr th:only-of-type {\n",
       "        vertical-align: middle;\n",
       "    }\n",
       "\n",
       "    .dataframe tbody tr th {\n",
       "        vertical-align: top;\n",
       "    }\n",
       "\n",
       "    .dataframe thead th {\n",
       "        text-align: right;\n",
       "    }\n",
       "</style>\n",
       "<table border=\"1\" class=\"dataframe\">\n",
       "  <thead>\n",
       "    <tr style=\"text-align: right;\">\n",
       "      <th></th>\n",
       "      <th>mean</th>\n",
       "      <th>count</th>\n",
       "      <th>diff</th>\n",
       "      <th>risk</th>\n",
       "    </tr>\n",
       "    <tr>\n",
       "      <th>industry</th>\n",
       "      <th></th>\n",
       "      <th></th>\n",
       "      <th></th>\n",
       "      <th></th>\n",
       "    </tr>\n",
       "  </thead>\n",
       "  <tbody>\n",
       "    <tr>\n",
       "      <th>NA</th>\n",
       "      <td>0.559701</td>\n",
       "      <td>134</td>\n",
       "      <td>-0.059314</td>\n",
       "      <td>0.904181</td>\n",
       "    </tr>\n",
       "    <tr>\n",
       "      <th>education</th>\n",
       "      <td>0.748663</td>\n",
       "      <td>187</td>\n",
       "      <td>0.129648</td>\n",
       "      <td>1.209442</td>\n",
       "    </tr>\n",
       "    <tr>\n",
       "      <th>finance</th>\n",
       "      <td>0.595000</td>\n",
       "      <td>200</td>\n",
       "      <td>-0.024015</td>\n",
       "      <td>0.961204</td>\n",
       "    </tr>\n",
       "    <tr>\n",
       "      <th>healthcare</th>\n",
       "      <td>0.604278</td>\n",
       "      <td>187</td>\n",
       "      <td>-0.014737</td>\n",
       "      <td>0.976193</td>\n",
       "    </tr>\n",
       "    <tr>\n",
       "      <th>manufacturing</th>\n",
       "      <td>0.666667</td>\n",
       "      <td>174</td>\n",
       "      <td>0.047652</td>\n",
       "      <td>1.076980</td>\n",
       "    </tr>\n",
       "    <tr>\n",
       "      <th>other</th>\n",
       "      <td>0.611111</td>\n",
       "      <td>198</td>\n",
       "      <td>-0.007904</td>\n",
       "      <td>0.987231</td>\n",
       "    </tr>\n",
       "    <tr>\n",
       "      <th>retail</th>\n",
       "      <td>0.586207</td>\n",
       "      <td>203</td>\n",
       "      <td>-0.032808</td>\n",
       "      <td>0.946999</td>\n",
       "    </tr>\n",
       "    <tr>\n",
       "      <th>technology</th>\n",
       "      <td>0.569832</td>\n",
       "      <td>179</td>\n",
       "      <td>-0.049183</td>\n",
       "      <td>0.920547</td>\n",
       "    </tr>\n",
       "  </tbody>\n",
       "</table>\n",
       "</div>"
      ],
      "text/plain": [
       "                   mean  count      diff      risk\n",
       "industry                                          \n",
       "NA             0.559701    134 -0.059314  0.904181\n",
       "education      0.748663    187  0.129648  1.209442\n",
       "finance        0.595000    200 -0.024015  0.961204\n",
       "healthcare     0.604278    187 -0.014737  0.976193\n",
       "manufacturing  0.666667    174  0.047652  1.076980\n",
       "other          0.611111    198 -0.007904  0.987231\n",
       "retail         0.586207    203 -0.032808  0.946999\n",
       "technology     0.569832    179 -0.049183  0.920547"
      ]
     },
     "metadata": {},
     "output_type": "display_data"
    },
    {
     "name": "stdout",
     "output_type": "stream",
     "text": [
      "\n",
      "\n",
      "employment_status\n"
     ]
    },
    {
     "data": {
      "text/html": [
       "<div>\n",
       "<style scoped>\n",
       "    .dataframe tbody tr th:only-of-type {\n",
       "        vertical-align: middle;\n",
       "    }\n",
       "\n",
       "    .dataframe tbody tr th {\n",
       "        vertical-align: top;\n",
       "    }\n",
       "\n",
       "    .dataframe thead th {\n",
       "        text-align: right;\n",
       "    }\n",
       "</style>\n",
       "<table border=\"1\" class=\"dataframe\">\n",
       "  <thead>\n",
       "    <tr style=\"text-align: right;\">\n",
       "      <th></th>\n",
       "      <th>mean</th>\n",
       "      <th>count</th>\n",
       "      <th>diff</th>\n",
       "      <th>risk</th>\n",
       "    </tr>\n",
       "    <tr>\n",
       "      <th>employment_status</th>\n",
       "      <th></th>\n",
       "      <th></th>\n",
       "      <th></th>\n",
       "      <th></th>\n",
       "    </tr>\n",
       "  </thead>\n",
       "  <tbody>\n",
       "    <tr>\n",
       "      <th>NA</th>\n",
       "      <td>0.560000</td>\n",
       "      <td>100</td>\n",
       "      <td>-0.059015</td>\n",
       "      <td>0.904663</td>\n",
       "    </tr>\n",
       "    <tr>\n",
       "      <th>employed</th>\n",
       "      <td>0.689024</td>\n",
       "      <td>328</td>\n",
       "      <td>0.070009</td>\n",
       "      <td>1.113098</td>\n",
       "    </tr>\n",
       "    <tr>\n",
       "      <th>self_employed</th>\n",
       "      <td>0.653409</td>\n",
       "      <td>352</td>\n",
       "      <td>0.034394</td>\n",
       "      <td>1.055563</td>\n",
       "    </tr>\n",
       "    <tr>\n",
       "      <th>student</th>\n",
       "      <td>0.652299</td>\n",
       "      <td>348</td>\n",
       "      <td>0.033284</td>\n",
       "      <td>1.053769</td>\n",
       "    </tr>\n",
       "    <tr>\n",
       "      <th>unemployed</th>\n",
       "      <td>0.497006</td>\n",
       "      <td>334</td>\n",
       "      <td>-0.122009</td>\n",
       "      <td>0.802898</td>\n",
       "    </tr>\n",
       "  </tbody>\n",
       "</table>\n",
       "</div>"
      ],
      "text/plain": [
       "                       mean  count      diff      risk\n",
       "employment_status                                     \n",
       "NA                 0.560000    100 -0.059015  0.904663\n",
       "employed           0.689024    328  0.070009  1.113098\n",
       "self_employed      0.653409    352  0.034394  1.055563\n",
       "student            0.652299    348  0.033284  1.053769\n",
       "unemployed         0.497006    334 -0.122009  0.802898"
      ]
     },
     "metadata": {},
     "output_type": "display_data"
    },
    {
     "name": "stdout",
     "output_type": "stream",
     "text": [
      "\n",
      "\n",
      "location\n"
     ]
    },
    {
     "data": {
      "text/html": [
       "<div>\n",
       "<style scoped>\n",
       "    .dataframe tbody tr th:only-of-type {\n",
       "        vertical-align: middle;\n",
       "    }\n",
       "\n",
       "    .dataframe tbody tr th {\n",
       "        vertical-align: top;\n",
       "    }\n",
       "\n",
       "    .dataframe thead th {\n",
       "        text-align: right;\n",
       "    }\n",
       "</style>\n",
       "<table border=\"1\" class=\"dataframe\">\n",
       "  <thead>\n",
       "    <tr style=\"text-align: right;\">\n",
       "      <th></th>\n",
       "      <th>mean</th>\n",
       "      <th>count</th>\n",
       "      <th>diff</th>\n",
       "      <th>risk</th>\n",
       "    </tr>\n",
       "    <tr>\n",
       "      <th>location</th>\n",
       "      <th></th>\n",
       "      <th></th>\n",
       "      <th></th>\n",
       "      <th></th>\n",
       "    </tr>\n",
       "  </thead>\n",
       "  <tbody>\n",
       "    <tr>\n",
       "      <th>NA</th>\n",
       "      <td>0.698413</td>\n",
       "      <td>63</td>\n",
       "      <td>0.079398</td>\n",
       "      <td>1.128264</td>\n",
       "    </tr>\n",
       "    <tr>\n",
       "      <th>africa</th>\n",
       "      <td>0.601064</td>\n",
       "      <td>188</td>\n",
       "      <td>-0.017951</td>\n",
       "      <td>0.971000</td>\n",
       "    </tr>\n",
       "    <tr>\n",
       "      <th>asia</th>\n",
       "      <td>0.620513</td>\n",
       "      <td>195</td>\n",
       "      <td>0.001498</td>\n",
       "      <td>1.002420</td>\n",
       "    </tr>\n",
       "    <tr>\n",
       "      <th>australia</th>\n",
       "      <td>0.605405</td>\n",
       "      <td>185</td>\n",
       "      <td>-0.013610</td>\n",
       "      <td>0.978014</td>\n",
       "    </tr>\n",
       "    <tr>\n",
       "      <th>europe</th>\n",
       "      <td>0.652778</td>\n",
       "      <td>216</td>\n",
       "      <td>0.033763</td>\n",
       "      <td>1.054543</td>\n",
       "    </tr>\n",
       "    <tr>\n",
       "      <th>middle_east</th>\n",
       "      <td>0.631313</td>\n",
       "      <td>198</td>\n",
       "      <td>0.012298</td>\n",
       "      <td>1.019867</td>\n",
       "    </tr>\n",
       "    <tr>\n",
       "      <th>north_america</th>\n",
       "      <td>0.595556</td>\n",
       "      <td>225</td>\n",
       "      <td>-0.023459</td>\n",
       "      <td>0.962102</td>\n",
       "    </tr>\n",
       "    <tr>\n",
       "      <th>south_america</th>\n",
       "      <td>0.598958</td>\n",
       "      <td>192</td>\n",
       "      <td>-0.020057</td>\n",
       "      <td>0.967599</td>\n",
       "    </tr>\n",
       "  </tbody>\n",
       "</table>\n",
       "</div>"
      ],
      "text/plain": [
       "                   mean  count      diff      risk\n",
       "location                                          \n",
       "NA             0.698413     63  0.079398  1.128264\n",
       "africa         0.601064    188 -0.017951  0.971000\n",
       "asia           0.620513    195  0.001498  1.002420\n",
       "australia      0.605405    185 -0.013610  0.978014\n",
       "europe         0.652778    216  0.033763  1.054543\n",
       "middle_east    0.631313    198  0.012298  1.019867\n",
       "north_america  0.595556    225 -0.023459  0.962102\n",
       "south_america  0.598958    192 -0.020057  0.967599"
      ]
     },
     "metadata": {},
     "output_type": "display_data"
    },
    {
     "name": "stdout",
     "output_type": "stream",
     "text": [
      "\n",
      "\n"
     ]
    }
   ],
   "source": [
    "for c in categorial_columns:\n",
    "    print(c)\n",
    "    df_group = df.groupby(c).converted.agg(['mean', 'count'])\n",
    "    df_group['diff'] = df_group['mean'] - global_converted\n",
    "    df_group['risk'] = df_group['mean'] / global_converted\n",
    "    display(df_group)\n",
    "    print()\n",
    "    print()"
   ]
  },
  {
   "cell_type": "code",
   "execution_count": 482,
   "id": "46117d1d",
   "metadata": {},
   "outputs": [],
   "source": [
    "# Mutual information between Categorial columns and target variable\n",
    "\n",
    "# Mutual Information is a measure of how much \"information\" you can get of one variable by observing another variable\n",
    "\n",
    "# We should also write down formula as well, about how to calculate it\n",
    "\n",
    "# Can we calculate the range of Mutual information\n",
    "\n",
    "\n",
    "def mutual_info_converted_score(series):\n",
    "    return mutual_info_score(series, df.converted) # calling function of library\n",
    "\n",
    "\n",
    "\n"
   ]
  },
  {
   "cell_type": "code",
   "execution_count": 483,
   "id": "3a778c3a",
   "metadata": {},
   "outputs": [
    {
     "data": {
      "text/plain": [
       "lead_source          0.026574\n",
       "employment_status    0.011070\n",
       "industry             0.007267\n",
       "location             0.001427\n",
       "dtype: float64"
      ]
     },
     "execution_count": 483,
     "metadata": {},
     "output_type": "execute_result"
    }
   ],
   "source": [
    "# Calling the function\n",
    "mutual_information = df[categorial_columns].apply(mutual_info_converted_score)\n",
    "\n",
    "# Sorting the results\n",
    "mutual_information.sort_values(ascending=False)\n"
   ]
  },
  {
   "cell_type": "code",
   "execution_count": 484,
   "id": "8a6b891c",
   "metadata": {},
   "outputs": [],
   "source": [
    "# Breaking data into different parts\n",
    "\n",
    "\n",
    "# Taking full dataset and converting to 80% and 20%, random seed are used for reproducbility\n",
    "seed = 42\n",
    "\n",
    "df_full_train, df_test = train_test_split(df, test_size=0.2, random_state=seed)\n",
    "\n"
   ]
  },
  {
   "cell_type": "code",
   "execution_count": 485,
   "id": "6a2d74f9",
   "metadata": {},
   "outputs": [],
   "source": [
    "# dividing between train and validation\n",
    "\n",
    "df_train, df_val = train_test_split(df_full_train, test_size=0.25, random_state=seed)"
   ]
  },
  {
   "cell_type": "code",
   "execution_count": 486,
   "id": "e1a1c9b0",
   "metadata": {},
   "outputs": [
    {
     "data": {
      "text/plain": [
       "(1169, 876, 293, 293)"
      ]
     },
     "execution_count": 486,
     "metadata": {},
     "output_type": "execute_result"
    }
   ],
   "source": [
    "# Verifiying the number of records\n",
    "len(df_full_train), len(df_train), len(df_val), len(df_test)"
   ]
  },
  {
   "cell_type": "code",
   "execution_count": 487,
   "id": "0bfc4866",
   "metadata": {},
   "outputs": [],
   "source": [
    "y_train = df_train.converted.values\n",
    "y_val = df_val.converted.values\n",
    "y_test = df_test.converted.values"
   ]
  },
  {
   "cell_type": "code",
   "execution_count": 488,
   "id": "708dc650",
   "metadata": {},
   "outputs": [],
   "source": [
    "# correcting the index after splitting the data\n",
    "df_train = df_train.reset_index(drop=True)\n",
    "df_val = df_val.reset_index(drop=True)\n",
    "df_test = df_test.reset_index(drop=True)"
   ]
  },
  {
   "cell_type": "code",
   "execution_count": 489,
   "id": "0b5345c4",
   "metadata": {},
   "outputs": [],
   "source": [
    "# dividing the data into x and y features and target\n",
    "del df_train['converted']\n",
    "del df_val['converted']\n",
    "del df_test['converted']"
   ]
  },
  {
   "cell_type": "code",
   "execution_count": 490,
   "id": "e3f51c3f",
   "metadata": {},
   "outputs": [],
   "source": [
    "def mutual_info_converted_score_train(series):\n",
    "    return mutual_info_score(series, y_train) # calling function of library"
   ]
  },
  {
   "cell_type": "code",
   "execution_count": 491,
   "id": "6a9e0b63",
   "metadata": {},
   "outputs": [
    {
     "data": {
      "text/plain": [
       "lead_source          0.04\n",
       "industry             0.01\n",
       "employment_status    0.01\n",
       "location             0.00\n",
       "dtype: float64"
      ]
     },
     "execution_count": 491,
     "metadata": {},
     "output_type": "execute_result"
    }
   ],
   "source": [
    "# Calling the function on training dataset\n",
    "mutual_information_train = df_train[categorial_columns].apply(mutual_info_converted_score_train)\n",
    "\n",
    "\n",
    "# Round the values (e.g., 2 decimal places)\n",
    "mutual_information_train = mutual_information_train.round(2)\n",
    "\n",
    "# Sorting the results\n",
    "mutual_information_train.sort_values(ascending=False)\n"
   ]
  },
  {
   "cell_type": "code",
   "execution_count": null,
   "id": "eb67a915",
   "metadata": {},
   "outputs": [],
   "source": [
    "dv = DictVectorizer(sparse=False)\n",
    "\n",
    "train_dict = df_train[categorial_columns + numerical_columns].to_dict(orient='records')\n",
    "\n",
    "\n",
    "X_train = dv.fit_transform(train_dict)\n",
    "\n",
    "\n",
    "val_dict = df_val[categorial_columns + numerical_columns].to_dict(orient='records')\n",
    "\n",
    "X_val = dv.transform(val_dict)\n"
   ]
  },
  {
   "cell_type": "code",
   "execution_count": 493,
   "id": "5ca36c5a",
   "metadata": {},
   "outputs": [
    {
     "name": "stdout",
     "output_type": "stream",
     "text": [
      "Validation Accuracy: 0.7\n"
     ]
    }
   ],
   "source": [
    "# Step 9: Train logistic regression model\n",
    "# - Using solver='liblinear' for small datasets\n",
    "# - C=1.0 (regularization), max_iter=1000, random_state=42 for reproducibility\n",
    "# Train the model\n",
    "model = LogisticRegression(solver='liblinear', C=1.0, max_iter=1000, random_state=42)\n",
    "model.fit(X_train, y_train)\n",
    "\n",
    "# Evaluate on validation set\n",
    "y_val_pred = model.predict(X_val)  # Correct usage\n",
    "accuracy = accuracy_score(y_val, y_val_pred)\n",
    "accuracy_rounded = round(accuracy, 2)\n",
    "print(\"Validation Accuracy:\", accuracy_rounded)"
   ]
  },
  {
   "cell_type": "code",
   "execution_count": 494,
   "id": "f8ecad27",
   "metadata": {},
   "outputs": [
    {
     "data": {
      "text/plain": [
       "array([[0.0000e+00, 5.8472e+04, 5.0000e+00, ..., 1.0000e+00, 0.0000e+00,\n",
       "        0.0000e+00],\n",
       "       [3.0000e+00, 7.1738e+04, 6.0000e+00, ..., 1.0000e+00, 0.0000e+00,\n",
       "        0.0000e+00],\n",
       "       [3.0000e+00, 8.1973e+04, 2.0000e+00, ..., 0.0000e+00, 1.0000e+00,\n",
       "        0.0000e+00],\n",
       "       ...,\n",
       "       [3.0000e+00, 8.9042e+04, 4.0000e+00, ..., 0.0000e+00, 0.0000e+00,\n",
       "        0.0000e+00],\n",
       "       [1.0000e+00, 0.0000e+00, 1.0000e+00, ..., 0.0000e+00, 0.0000e+00,\n",
       "        0.0000e+00],\n",
       "       [4.0000e+00, 5.0259e+04, 3.0000e+00, ..., 0.0000e+00, 0.0000e+00,\n",
       "        0.0000e+00]], shape=(876, 31))"
      ]
     },
     "execution_count": 494,
     "metadata": {},
     "output_type": "execute_result"
    }
   ],
   "source": [
    "df_train_final"
   ]
  },
  {
   "cell_type": "code",
   "execution_count": null,
   "id": "29977fc8",
   "metadata": {},
   "outputs": [
    {
     "name": "stdout",
     "output_type": "stream",
     "text": [
      "['annual_income' 'employment_status=NA' 'employment_status=employed'\n",
      " 'employment_status=self_employed' 'employment_status=student'\n",
      " 'employment_status=unemployed' 'industry=NA' 'industry=education'\n",
      " 'industry=finance' 'industry=healthcare' 'industry=manufacturing'\n",
      " 'industry=other' 'industry=retail' 'industry=technology'\n",
      " 'interaction_count' 'lead_score' 'lead_source=NA' 'lead_source=events'\n",
      " 'lead_source=organic_search' 'lead_source=paid_ads'\n",
      " 'lead_source=referral' 'lead_source=social_media' 'location=NA'\n",
      " 'location=africa' 'location=asia' 'location=australia' 'location=europe'\n",
      " 'location=middle_east' 'location=north_america' 'location=south_america'\n",
      " 'number_of_courses_viewed']\n",
      "Accuracy without industry: 0.7, difference: 0.0\n",
      "Accuracy without employment_status: 0.696, difference: 0.003\n",
      "Accuracy without lead_score: 0.706, difference: -0.007\n",
      "Least useful feature: industry\n"
     ]
    }
   ],
   "source": [
    "\n",
    "features_to_test = ['industry', 'employment_status', 'lead_score']\n",
    "feature_names = dv.get_feature_names_out()\n",
    "\n",
    "print(feature_names)\n",
    "\n",
    "differences = {}\n",
    "\n",
    "for feature in features_to_test:\n",
    "    if feature == 'lead_score':\n",
    "         # Numerical feature: find the single column index\n",
    "        cols_to_remove = [i for i, f in enumerate(feature_names) if f == feature]\n",
    "    else:\n",
    "        # Categorical feature: find all one-hot column indices for this feature\n",
    "        cols_to_remove = [i for i, f in enumerate(feature_names) if f.startswith(feature + '=')]\n",
    "    \n",
    "    X_train_mod = np.delete(X_train, cols_to_remove, axis=1)\n",
    "    X_val_mod = np.delete(X_val, cols_to_remove, axis=1)\n",
    "    \n",
    "    model.fit(X_train_mod, y_train)\n",
    "    y_val_pred_mod = model.predict(X_val_mod)\n",
    "    accuracy_mod = accuracy_score(y_val, y_val_pred_mod)\n",
    "    \n",
    "    differences[feature] = accuracy - accuracy_mod\n",
    "    print(f\"Accuracy without {feature}: {round(accuracy_mod,3)}, difference: {round(differences[feature],3)}\")\n",
    "\n",
    "least_useful = min(differences, key=lambda x: abs(differences[x]))\n",
    "print(\"Least useful feature:\", least_useful)\n"
   ]
  },
  {
   "cell_type": "code",
   "execution_count": 496,
   "id": "a4608317",
   "metadata": {},
   "outputs": [
    {
     "name": "stdout",
     "output_type": "stream",
     "text": [
      "C=0.01, Validation Accuracy=0.7\n",
      "C=0.1, Validation Accuracy=0.7\n",
      "C=1, Validation Accuracy=0.7\n",
      "C=10, Validation Accuracy=0.7\n",
      "C=100, Validation Accuracy=0.7\n",
      "\n",
      "Best C: 0.01, with Validation Accuracy: 0.7\n"
     ]
    }
   ],
   "source": [
    "C_values = [0.01, 0.1, 1, 10, 100]\n",
    "\n",
    "\n",
    "best_accuracy = 0\n",
    "best_C = None\n",
    "\n",
    "for C in C_values:\n",
    "    # Train logistic regression with current C\n",
    "    model = LogisticRegression(solver='liblinear', C=C, max_iter=1000, random_state=42)\n",
    "    model.fit(X_train, y_train)\n",
    "    \n",
    "    # Predict on validation set\n",
    "    y_val_pred = model.predict(X_val)\n",
    "    \n",
    "    # Calculate accuracy\n",
    "    accuracy = accuracy_score(y_val, y_val_pred)\n",
    "    accuracy_rounded = round(accuracy, 3)\n",
    "    print(f\"C={C}, Validation Accuracy={accuracy_rounded}\")\n",
    "    \n",
    "    # Keep track of best accuracy (choose smallest C if tie)\n",
    "    if accuracy_rounded > best_accuracy or (accuracy_rounded == best_accuracy and (best_C is None or C < best_C)):\n",
    "        best_accuracy = accuracy_rounded\n",
    "        best_C = C\n",
    "\n",
    "print(f\"\\nBest C: {best_C}, with Validation Accuracy: {best_accuracy}\")\n",
    "\n"
   ]
  }
 ],
 "metadata": {
  "kernelspec": {
   "display_name": "Python 3",
   "language": "python",
   "name": "python3"
  },
  "language_info": {
   "codemirror_mode": {
    "name": "ipython",
    "version": 3
   },
   "file_extension": ".py",
   "mimetype": "text/x-python",
   "name": "python",
   "nbconvert_exporter": "python",
   "pygments_lexer": "ipython3",
   "version": "3.12.1"
  }
 },
 "nbformat": 4,
 "nbformat_minor": 5
}

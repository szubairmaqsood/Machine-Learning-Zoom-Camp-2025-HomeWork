{
 "cells": [
  {
   "cell_type": "code",
   "execution_count": 39,
   "id": "079b0e08-0a71-4eae-895a-bac791b7c70c",
   "metadata": {},
   "outputs": [],
   "source": [
    "# Creating an array with zeros and ones, or any other particular number with a particular length np.zeros, ones, array []\n",
    "# Use a particular list of numbers as an array (Full)\n",
    "# Access and modify an element in an array []\n",
    "# Range using arange from starting to end points or from zero to end point (not included), or decided breaks using linspace\n",
    "# Indexing start from zero\n",
    "# Multidimension arrays\n",
    "# : mean all\n",
    "# Random initlization\n",
    "# element wise operation ** power\n",
    "# a+ b add two arrays\n",
    "# diviison by constant or multiply or add\n",
    "# Comparing arrays element wise\n",
    "# Filtering based on criteria\n",
    "# Summerization operation\n",
    "\n",
    "\n",
    "\n"
   ]
  },
  {
   "cell_type": "code",
   "execution_count": 4,
   "id": "2c15680c-d0ee-48c2-a227-eda63af2ce2a",
   "metadata": {},
   "outputs": [],
   "source": [
    "import numpy as np"
   ]
  },
  {
   "cell_type": "code",
   "execution_count": 5,
   "id": "8c91f93c-774e-4a98-a43c-7b9a2d948ea3",
   "metadata": {},
   "outputs": [
    {
     "data": {
      "text/plain": [
       "<module 'numpy' from '/home/codespace/.local/lib/python3.12/site-packages/numpy/__init__.py'>"
      ]
     },
     "execution_count": 5,
     "metadata": {},
     "output_type": "execute_result"
    }
   ],
   "source": [
    "np"
   ]
  },
  {
   "cell_type": "code",
   "execution_count": 6,
   "id": "9a03979f-cad8-4b1a-a299-c82ef35ecdad",
   "metadata": {},
   "outputs": [],
   "source": [
    "# Creating Numpy\n"
   ]
  },
  {
   "cell_type": "code",
   "execution_count": 7,
   "id": "41c30b9d-2dab-4867-8b51-e9592dbe1940",
   "metadata": {},
   "outputs": [
    {
     "data": {
      "text/plain": [
       "array([0., 0., 0., 0., 0., 0., 0., 0., 0., 0.])"
      ]
     },
     "execution_count": 7,
     "metadata": {},
     "output_type": "execute_result"
    }
   ],
   "source": [
    "np.zeros(10)"
   ]
  },
  {
   "cell_type": "code",
   "execution_count": 8,
   "id": "022c59fa-ec60-41bb-b72e-15d508803c28",
   "metadata": {},
   "outputs": [
    {
     "data": {
      "text/plain": [
       "array([1., 1., 1., 1., 1., 1., 1., 1., 1., 1.])"
      ]
     },
     "execution_count": 8,
     "metadata": {},
     "output_type": "execute_result"
    }
   ],
   "source": [
    "np.ones(10)"
   ]
  },
  {
   "cell_type": "code",
   "execution_count": 9,
   "id": "bf3a8603-2301-4ba1-a169-58ccda709e61",
   "metadata": {},
   "outputs": [
    {
     "data": {
      "text/plain": [
       "array([2.5, 2.5, 2.5, 2.5, 2.5, 2.5, 2.5, 2.5, 2.5, 2.5])"
      ]
     },
     "execution_count": 9,
     "metadata": {},
     "output_type": "execute_result"
    }
   ],
   "source": [
    "np.full(10, 2.5)"
   ]
  },
  {
   "cell_type": "code",
   "execution_count": 10,
   "id": "d2731020-2de2-4aa5-8159-1d438396bd59",
   "metadata": {},
   "outputs": [
    {
     "data": {
      "text/plain": [
       "array([1, 2, 3, 4, 5])"
      ]
     },
     "execution_count": 10,
     "metadata": {},
     "output_type": "execute_result"
    }
   ],
   "source": [
    "# List to array\n",
    "a = np.array([1, 2, 3, 4, 5])\n",
    "a\n"
   ]
  },
  {
   "cell_type": "code",
   "execution_count": 11,
   "id": "efbf16ce-017d-421e-90e0-44a8d8b8156f",
   "metadata": {},
   "outputs": [
    {
     "data": {
      "text/plain": [
       "array([ 1,  2, 10,  4,  5])"
      ]
     },
     "execution_count": 11,
     "metadata": {},
     "output_type": "execute_result"
    }
   ],
   "source": [
    "a [2] = 10\n",
    "a"
   ]
  },
  {
   "cell_type": "code",
   "execution_count": 12,
   "id": "31bcb54f-c0aa-44a2-a0d6-f4f667db691d",
   "metadata": {},
   "outputs": [
    {
     "data": {
      "text/plain": [
       "array([0, 1, 2, 3, 4, 5, 6, 7, 8, 9])"
      ]
     },
     "execution_count": 12,
     "metadata": {},
     "output_type": "execute_result"
    }
   ],
   "source": [
    "np.arange(10)"
   ]
  },
  {
   "cell_type": "code",
   "execution_count": 13,
   "id": "473ba8ab-9507-40f9-92ad-26680fcc28a5",
   "metadata": {},
   "outputs": [
    {
     "data": {
      "text/plain": [
       "array([3, 4, 5, 6, 7, 8, 9])"
      ]
     },
     "execution_count": 13,
     "metadata": {},
     "output_type": "execute_result"
    }
   ],
   "source": [
    "np.arange(3, 10)"
   ]
  },
  {
   "cell_type": "code",
   "execution_count": 14,
   "id": "84d32625-1c8e-4a62-b786-3fa406ee222b",
   "metadata": {},
   "outputs": [
    {
     "data": {
      "text/plain": [
       "array([0. , 0.1, 0.2, 0.3, 0.4, 0.5, 0.6, 0.7, 0.8, 0.9, 1. ])"
      ]
     },
     "execution_count": 14,
     "metadata": {},
     "output_type": "execute_result"
    }
   ],
   "source": [
    "np.linspace(0, 1, 11)"
   ]
  },
  {
   "cell_type": "code",
   "execution_count": 15,
   "id": "a105ffbb-4c41-47c6-b71a-a845c05eff49",
   "metadata": {},
   "outputs": [],
   "source": [
    "# Multidimensioal arrays"
   ]
  },
  {
   "cell_type": "code",
   "execution_count": 16,
   "id": "e3a8b075-9924-4984-9c9a-1b6511d8f77d",
   "metadata": {},
   "outputs": [
    {
     "data": {
      "text/plain": [
       "array([[0., 0.],\n",
       "       [0., 0.],\n",
       "       [0., 0.],\n",
       "       [0., 0.],\n",
       "       [0., 0.]])"
      ]
     },
     "execution_count": 16,
     "metadata": {},
     "output_type": "execute_result"
    }
   ],
   "source": [
    "np.zeros((5, 2)) # rows and columns"
   ]
  },
  {
   "cell_type": "code",
   "execution_count": 17,
   "id": "b964ade2-8fd5-4080-ba2d-1d5b2a0a4644",
   "metadata": {},
   "outputs": [],
   "source": [
    "n = np.array([\n",
    "    [1, 2, 3],   # Array of lists\n",
    "    [4, 5, 6],\n",
    "    [8, 9, 10]\n",
    "]\n",
    ")"
   ]
  },
  {
   "cell_type": "code",
   "execution_count": 18,
   "id": "6876afcf-e8a1-4fb2-9356-1013a4e025c1",
   "metadata": {},
   "outputs": [
    {
     "data": {
      "text/plain": [
       "array([[ 1, 30,  3],\n",
       "       [ 4,  5,  6],\n",
       "       [ 8,  9, 10]])"
      ]
     },
     "execution_count": 18,
     "metadata": {},
     "output_type": "execute_result"
    }
   ],
   "source": [
    "n [0, 1] = 30     # first row second column\n",
    "n"
   ]
  },
  {
   "cell_type": "code",
   "execution_count": 19,
   "id": "dcd382f1-7efc-4eae-9db2-b591172c00dd",
   "metadata": {},
   "outputs": [],
   "source": [
    "n[:, 2] = [1, 1, 1]  # allow rows third column "
   ]
  },
  {
   "cell_type": "code",
   "execution_count": 20,
   "id": "21e91979-9d2d-482f-b075-be019ad5070e",
   "metadata": {},
   "outputs": [
    {
     "data": {
      "text/plain": [
       "array([[ 1, 30,  1],\n",
       "       [ 4,  5,  1],\n",
       "       [ 8,  9,  1]])"
      ]
     },
     "execution_count": 20,
     "metadata": {},
     "output_type": "execute_result"
    }
   ],
   "source": [
    "n"
   ]
  },
  {
   "cell_type": "code",
   "execution_count": null,
   "id": "735f67f4-c4fb-4d98-a11d-5d622afa5cd1",
   "metadata": {},
   "outputs": [],
   "source": [
    "# Random Initlization"
   ]
  },
  {
   "cell_type": "code",
   "execution_count": 26,
   "id": "6ea14778-e6a8-4221-b78a-aa05de372a5c",
   "metadata": {},
   "outputs": [
    {
     "data": {
      "text/plain": [
       "array([[0.4359949 , 0.02592623],\n",
       "       [0.54966248, 0.43532239],\n",
       "       [0.4203678 , 0.33033482],\n",
       "       [0.20464863, 0.61927097],\n",
       "       [0.29965467, 0.26682728]])"
      ]
     },
     "execution_count": 26,
     "metadata": {},
     "output_type": "execute_result"
    }
   ],
   "source": [
    "np.random.seed(2)\n",
    "np.random.rand(5,2) # 5 rows 2 columns, uniform distribution between 0 and 1"
   ]
  },
  {
   "cell_type": "code",
   "execution_count": 29,
   "id": "2d02c85a-d776-4eba-9c8e-4c482390f321",
   "metadata": {},
   "outputs": [
    {
     "data": {
      "text/plain": [
       "array([[-2.69056960e-01,  2.23136679e+00],\n",
       "       [-2.43476758e+00,  1.12726505e-01],\n",
       "       [ 3.70444537e-01,  1.35963386e+00],\n",
       "       [ 5.01857207e-01, -8.44213704e-01],\n",
       "       [ 9.76147160e-06,  5.42352572e-01]])"
      ]
     },
     "execution_count": 29,
     "metadata": {},
     "output_type": "execute_result"
    }
   ],
   "source": [
    "np.random.randn(5, 2) # normal distribution"
   ]
  },
  {
   "cell_type": "code",
   "execution_count": 30,
   "id": "7c62b747-f13f-4a1b-a5ae-87b41b20eefb",
   "metadata": {},
   "outputs": [
    {
     "data": {
      "text/plain": [
       "array([[43.59949021,  2.59262318],\n",
       "       [54.96624779, 43.53223926],\n",
       "       [42.03678021, 33.0334821 ],\n",
       "       [20.4648634 , 61.92709664],\n",
       "       [29.96546737, 26.68272751]])"
      ]
     },
     "execution_count": 30,
     "metadata": {},
     "output_type": "execute_result"
    }
   ],
   "source": [
    "np.random.seed(2)\n",
    "100 * np.random.rand(5,2) # 5 rows 2 columns, uniform distribution between 0 and 1"
   ]
  },
  {
   "cell_type": "code",
   "execution_count": 35,
   "id": "c065a02e-a724-4249-aada-b24ae77410b5",
   "metadata": {},
   "outputs": [
    {
     "data": {
      "text/plain": [
       "array([[37, 39],\n",
       "       [67,  4],\n",
       "       [42, 51],\n",
       "       [38, 33],\n",
       "       [58, 67]])"
      ]
     },
     "execution_count": 35,
     "metadata": {},
     "output_type": "execute_result"
    }
   ],
   "source": [
    "np.random.randint(low= 0 , high = 100, size = (5,2))"
   ]
  },
  {
   "cell_type": "code",
   "execution_count": 37,
   "id": "d3bc7d96-931c-4d77-8bbb-871e583c5230",
   "metadata": {},
   "outputs": [
    {
     "data": {
      "text/plain": [
       "array([0, 1, 2, 3, 4])"
      ]
     },
     "execution_count": 37,
     "metadata": {},
     "output_type": "execute_result"
    }
   ],
   "source": [
    "#elment wise\n",
    "a = np.arange(5)\n",
    "a"
   ]
  },
  {
   "cell_type": "code",
   "execution_count": 38,
   "id": "0473dd2e-0e78-4e79-8085-744fec2e603e",
   "metadata": {},
   "outputs": [
    {
     "data": {
      "text/plain": [
       "array([0, 2, 4, 6, 8])"
      ]
     },
     "execution_count": 38,
     "metadata": {},
     "output_type": "execute_result"
    }
   ],
   "source": [
    "a * 2"
   ]
  },
  {
   "cell_type": "code",
   "execution_count": 47,
   "id": "3864ac6c-76d4-4879-bcf8-32b8bb44274c",
   "metadata": {},
   "outputs": [
    {
     "data": {
      "text/plain": [
       "array([1.  , 1.44, 1.96, 2.56, 3.24])"
      ]
     },
     "execution_count": 47,
     "metadata": {},
     "output_type": "execute_result"
    }
   ],
   "source": [
    "b = ((2 * a) + 10) **2 /100\n",
    "b"
   ]
  },
  {
   "cell_type": "code",
   "execution_count": 45,
   "id": "fea4c310-a060-447c-a505-e417329a58d4",
   "metadata": {},
   "outputs": [
    {
     "data": {
      "text/plain": [
       "array([1.  , 2.44, 3.96, 5.56, 7.24])"
      ]
     },
     "execution_count": 45,
     "metadata": {},
     "output_type": "execute_result"
    }
   ],
   "source": [
    "a+ b"
   ]
  },
  {
   "cell_type": "code",
   "execution_count": null,
   "id": "dc99e66b-e797-407c-9a1e-a80a4c392a7f",
   "metadata": {},
   "outputs": [],
   "source": [
    "# Comparison"
   ]
  },
  {
   "cell_type": "code",
   "execution_count": 48,
   "id": "1b29ee53-aa08-4da6-a269-70f4e314a355",
   "metadata": {},
   "outputs": [
    {
     "data": {
      "text/plain": [
       "array([False, False,  True,  True,  True])"
      ]
     },
     "execution_count": 48,
     "metadata": {},
     "output_type": "execute_result"
    }
   ],
   "source": [
    "a >=2"
   ]
  },
  {
   "cell_type": "code",
   "execution_count": 49,
   "id": "e2bd36b0-8b2c-40ba-aeb6-d5e6a3b376d1",
   "metadata": {},
   "outputs": [
    {
     "data": {
      "text/plain": [
       "array([False, False,  True,  True,  True])"
      ]
     },
     "execution_count": 49,
     "metadata": {},
     "output_type": "execute_result"
    }
   ],
   "source": [
    "a >= b"
   ]
  },
  {
   "cell_type": "code",
   "execution_count": 50,
   "id": "369df44f-d4f6-40d4-8a63-7e64ab89943c",
   "metadata": {},
   "outputs": [
    {
     "data": {
      "text/plain": [
       "array([2, 3, 4])"
      ]
     },
     "execution_count": 50,
     "metadata": {},
     "output_type": "execute_result"
    }
   ],
   "source": [
    "a [a>=b]"
   ]
  },
  {
   "cell_type": "code",
   "execution_count": null,
   "id": "5296d240-36d1-4cfe-9fe2-20ec8a25633a",
   "metadata": {},
   "outputs": [],
   "source": [
    "# Summerization"
   ]
  },
  {
   "cell_type": "code",
   "execution_count": 53,
   "id": "0a5ff15c-383f-48ed-8864-026cdcb93765",
   "metadata": {},
   "outputs": [
    {
     "data": {
      "text/plain": [
       "np.float64(2.0)"
      ]
     },
     "execution_count": 53,
     "metadata": {},
     "output_type": "execute_result"
    }
   ],
   "source": [
    "a.sum()\n",
    "a.mean()"
   ]
  },
  {
   "cell_type": "code",
   "execution_count": 54,
   "id": "eae2b9af-6fb0-4645-af1a-41452f4f0c60",
   "metadata": {},
   "outputs": [
    {
     "data": {
      "text/plain": [
       "np.float64(1.4142135623730951)"
      ]
     },
     "execution_count": 54,
     "metadata": {},
     "output_type": "execute_result"
    }
   ],
   "source": [
    "a.std()"
   ]
  },
  {
   "cell_type": "code",
   "execution_count": 55,
   "id": "0019fee1-6b38-477d-a4da-55960a1f1b5c",
   "metadata": {},
   "outputs": [
    {
     "data": {
      "text/plain": [
       "np.int64(0)"
      ]
     },
     "execution_count": 55,
     "metadata": {},
     "output_type": "execute_result"
    }
   ],
   "source": [
    "a.min()"
   ]
  },
  {
   "cell_type": "code",
   "execution_count": 56,
   "id": "443c9c56-7743-4c66-8257-995f919a2f8e",
   "metadata": {},
   "outputs": [
    {
     "data": {
      "text/plain": [
       "np.int64(4)"
      ]
     },
     "execution_count": 56,
     "metadata": {},
     "output_type": "execute_result"
    }
   ],
   "source": [
    "a.max()"
   ]
  },
  {
   "cell_type": "code",
   "execution_count": null,
   "id": "0f47903f-ad12-4b4f-880e-bb3b0c4127dd",
   "metadata": {},
   "outputs": [],
   "source": []
  }
 ],
 "metadata": {
  "kernelspec": {
   "display_name": "Python 3 (ipykernel)",
   "language": "python",
   "name": "python3"
  },
  "language_info": {
   "codemirror_mode": {
    "name": "ipython",
    "version": 3
   },
   "file_extension": ".py",
   "mimetype": "text/x-python",
   "name": "python",
   "nbconvert_exporter": "python",
   "pygments_lexer": "ipython3",
   "version": "3.12.1"
  }
 },
 "nbformat": 4,
 "nbformat_minor": 5
}

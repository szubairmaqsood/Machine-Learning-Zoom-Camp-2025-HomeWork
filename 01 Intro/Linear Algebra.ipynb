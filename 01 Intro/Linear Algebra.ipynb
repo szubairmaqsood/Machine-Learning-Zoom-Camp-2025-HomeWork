{
 "cells": [
  {
   "cell_type": "code",
   "execution_count": 33,
   "id": "807b7ddd-ede3-4869-806e-ca1689cd6a86",
   "metadata": {},
   "outputs": [],
   "source": [
    "# Vector Operation\n",
    "# Multiply with scale or adding two vector\n",
    "# Multiplication of two vectors using inner product or dot product\n"
   ]
  },
  {
   "cell_type": "code",
   "execution_count": 34,
   "id": "397bbd37-3681-4639-b2ea-034662bfb793",
   "metadata": {},
   "outputs": [],
   "source": [
    "import numpy as np"
   ]
  },
  {
   "cell_type": "code",
   "execution_count": 35,
   "id": "fe5d425a-163e-467f-a6b3-6c6647e48134",
   "metadata": {},
   "outputs": [],
   "source": [
    "# Multiplication with vector"
   ]
  },
  {
   "cell_type": "code",
   "execution_count": 36,
   "id": "c4843b98-5144-41bb-a4ad-28ab44c77859",
   "metadata": {},
   "outputs": [
    {
     "data": {
      "text/plain": [
       "array([2, 4, 6, 8])"
      ]
     },
     "execution_count": 36,
     "metadata": {},
     "output_type": "execute_result"
    }
   ],
   "source": [
    "u = np.array([1, 2, 3 ,4])\n",
    "u*2"
   ]
  },
  {
   "cell_type": "code",
   "execution_count": 37,
   "id": "59fbeb4b-d06d-4f10-aa88-8a6ce17369ab",
   "metadata": {},
   "outputs": [],
   "source": [
    "# Adding two vectors"
   ]
  },
  {
   "cell_type": "code",
   "execution_count": 38,
   "id": "db0f79d1-547a-4402-9b36-73e5aad0bd39",
   "metadata": {},
   "outputs": [],
   "source": [
    "v = np.array([5, 6, 7, 8])"
   ]
  },
  {
   "cell_type": "code",
   "execution_count": 39,
   "id": "28adf604-02de-4dba-953c-128a2002a038",
   "metadata": {},
   "outputs": [
    {
     "data": {
      "text/plain": [
       "array([ 6,  8, 10, 12])"
      ]
     },
     "execution_count": 39,
     "metadata": {},
     "output_type": "execute_result"
    }
   ],
   "source": [
    "u+v"
   ]
  },
  {
   "cell_type": "code",
   "execution_count": 40,
   "id": "b544c75e-5702-42a0-accd-060a9ede989e",
   "metadata": {},
   "outputs": [
    {
     "data": {
      "text/plain": [
       "array([ 5, 12, 21, 32])"
      ]
     },
     "execution_count": 40,
     "metadata": {},
     "output_type": "execute_result"
    }
   ],
   "source": [
    "# Multiplication of two vector\n",
    "u = np.array([1,2, 3, 4])\n",
    "v = np.array([5, 6, 7,8])\n",
    "u*v"
   ]
  },
  {
   "cell_type": "code",
   "execution_count": 106,
   "id": "e4e9d417-31c1-481e-bc38-fb4f2eb12261",
   "metadata": {},
   "outputs": [],
   "source": [
    "def vector_vector_multipication(u,v):\n",
    "    assert u.shape[0] == v.shape[0]               # Making sure size of each vector is equal\n",
    "    result = 0.0\n",
    "    number_of_element = u.shape[0]     \n",
    "\n",
    "    for i in range (number_of_element):               # Calculating result\n",
    "        \n",
    "       \n",
    "        result = result +  (u[i] * v[i])\n",
    "       \n",
    "    print(result)\n",
    "    return result                                   # returing result"
   ]
  },
  {
   "cell_type": "code",
   "execution_count": 107,
   "id": "c1676c77-90d1-4f6e-a536-6819272dede2",
   "metadata": {},
   "outputs": [
    {
     "name": "stdout",
     "output_type": "stream",
     "text": [
      "70.0\n"
     ]
    },
    {
     "data": {
      "text/plain": [
       "np.float64(70.0)"
      ]
     },
     "execution_count": 107,
     "metadata": {},
     "output_type": "execute_result"
    }
   ],
   "source": [
    "u = np.array([1,2, 3, 4])\n",
    "v = np.array([5, 6, 7,8])\n",
    "vector_vector_multipication(u,v)\n"
   ]
  },
  {
   "cell_type": "code",
   "execution_count": 108,
   "id": "ef3b6c8e-c607-4f76-8661-a4e5902f1043",
   "metadata": {},
   "outputs": [
    {
     "data": {
      "text/plain": [
       "(5, 12, 21, 32)"
      ]
     },
     "execution_count": 108,
     "metadata": {},
     "output_type": "execute_result"
    }
   ],
   "source": [
    "5, 12 , 21, 32"
   ]
  },
  {
   "cell_type": "code",
   "execution_count": 109,
   "id": "e698907f-0e60-431d-a62e-dc2b6be33688",
   "metadata": {},
   "outputs": [],
   "source": [
    "def matrix_vector_multipication(U, v):\n",
    "    \n",
    "    assert U.shape[1] == v.shape[0]\n",
    "    resultant_number_of_rows  = U.shape[0]\n",
    "    result = np.zeros(resultant_number_of_rows)\n",
    "\n",
    "    for i in range( resultant_number_of_rows):\n",
    "        result [i] = vector_vector_multipication(U[i],v)\n",
    "\n",
    "    return result\n",
    "        \n",
    "    "
   ]
  },
  {
   "cell_type": "code",
   "execution_count": 110,
   "id": "87083a62-20cf-476b-aa51-b707916abfa9",
   "metadata": {},
   "outputs": [],
   "source": [
    "U = np.array([[2, 4, 5, 6],[1, 2 , 1, 2], [3, 1 , 2 , 1]])\n",
    "V = np.array([\n",
    "    [1, 1, 2],\n",
    "    [0, 0.5, 1], \n",
    "    [0, 2, 1],\n",
    "    [2, 1, 0],\n",
    "])"
   ]
  },
  {
   "cell_type": "code",
   "execution_count": 111,
   "id": "06a4659e-706c-4e25-b056-6fcb34f7dd87",
   "metadata": {},
   "outputs": [
    {
     "data": {
      "text/plain": [
       "(3, 4)"
      ]
     },
     "execution_count": 111,
     "metadata": {},
     "output_type": "execute_result"
    }
   ],
   "source": [
    "U.shape # 3 rows and 4 columns"
   ]
  },
  {
   "cell_type": "code",
   "execution_count": 112,
   "id": "7f49cce1-d21f-46e3-87cd-1d506472e5a2",
   "metadata": {},
   "outputs": [],
   "source": [
    "d = np.array([1, 0, 0, 2])"
   ]
  },
  {
   "cell_type": "code",
   "execution_count": 113,
   "id": "7133f7f5-f64a-4eb4-8a4c-49b43f03fd5f",
   "metadata": {},
   "outputs": [
    {
     "name": "stdout",
     "output_type": "stream",
     "text": [
      "14.0\n",
      "5.0\n",
      "5.0\n"
     ]
    },
    {
     "data": {
      "text/plain": [
       "array([14.,  5.,  5.])"
      ]
     },
     "execution_count": 113,
     "metadata": {},
     "output_type": "execute_result"
    }
   ],
   "source": [
    " matrix_vector_multipication(U,d)"
   ]
  },
  {
   "cell_type": "code",
   "execution_count": 118,
   "id": "45298647-d50c-4658-89d7-0eef412cb61a",
   "metadata": {},
   "outputs": [],
   "source": [
    "def matrix_matrix_multipication(U,V):\n",
    "    assert U.shape[1] == V.shape[0]         # CHECKING DIMENSION\n",
    "    number_of_rows = U.shape[0]\n",
    "    number_of_columns =V.shape[1]\n",
    "    \n",
    "    result = np.zeros((number_of_rows,number_of_columns ))\n",
    "    for i in range(number_of_columns):\n",
    "        Vi = V [:, i]\n",
    "        Uvi =  matrix_vector_multipication(U, Vi)\n",
    "        result [:, i ]=  Uvi\n",
    "    return result"
   ]
  },
  {
   "cell_type": "code",
   "execution_count": 119,
   "id": "5494703a-c9e7-4d06-bde0-addae0e4b6aa",
   "metadata": {},
   "outputs": [
    {
     "name": "stdout",
     "output_type": "stream",
     "text": [
      "14.0\n",
      "5.0\n",
      "5.0\n",
      "20.0\n",
      "6.0\n",
      "8.5\n",
      "13.0\n",
      "5.0\n",
      "9.0\n"
     ]
    },
    {
     "data": {
      "text/plain": [
       "array([[14. , 20. , 13. ],\n",
       "       [ 5. ,  6. ,  5. ],\n",
       "       [ 5. ,  8.5,  9. ]])"
      ]
     },
     "execution_count": 119,
     "metadata": {},
     "output_type": "execute_result"
    }
   ],
   "source": [
    " matrix_matrix_multipication(U,V)"
   ]
  },
  {
   "cell_type": "code",
   "execution_count": 120,
   "id": "d7d8cb14-d793-4d65-b9c6-30fe54298a87",
   "metadata": {},
   "outputs": [
    {
     "data": {
      "text/plain": [
       "array([[14. , 20. , 13. ],\n",
       "       [ 5. ,  6. ,  5. ],\n",
       "       [ 5. ,  8.5,  9. ]])"
      ]
     },
     "execution_count": 120,
     "metadata": {},
     "output_type": "execute_result"
    }
   ],
   "source": [
    "U.dot(V)"
   ]
  },
  {
   "cell_type": "code",
   "execution_count": null,
   "id": "161fbd59-fe41-45b9-a167-05efbde7ba34",
   "metadata": {},
   "outputs": [],
   "source": []
  }
 ],
 "metadata": {
  "kernelspec": {
   "display_name": "Python 3 (ipykernel)",
   "language": "python",
   "name": "python3"
  },
  "language_info": {
   "codemirror_mode": {
    "name": "ipython",
    "version": 3
   },
   "file_extension": ".py",
   "mimetype": "text/x-python",
   "name": "python",
   "nbconvert_exporter": "python",
   "pygments_lexer": "ipython3",
   "version": "3.12.1"
  }
 },
 "nbformat": 4,
 "nbformat_minor": 5
}

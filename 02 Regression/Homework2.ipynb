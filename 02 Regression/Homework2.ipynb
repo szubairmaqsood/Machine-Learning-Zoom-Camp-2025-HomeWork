{
 "cells": [
  {
   "cell_type": "code",
   "execution_count": 725,
   "id": "959eecce",
   "metadata": {},
   "outputs": [],
   "source": [
    "import pandas as pd\n",
    "import numpy as np\n",
    "import matplotlib.pyplot as plt\n",
    "import seaborn as sns \n"
   ]
  },
  {
   "cell_type": "code",
   "execution_count": 726,
   "id": "39492f44",
   "metadata": {},
   "outputs": [
    {
     "name": "stdout",
     "output_type": "stream",
     "text": [
      "--2025-10-08 14:34:32--  https://raw.githubusercontent.com/alexeygrigorev/datasets/master/car_fuel_efficiency.csv\n",
      "Resolving raw.githubusercontent.com (raw.githubusercontent.com)... 185.199.110.133, 185.199.111.133, 185.199.108.133, ...\n",
      "Connecting to raw.githubusercontent.com (raw.githubusercontent.com)|185.199.110.133|:443... connected.\n",
      "HTTP request sent, awaiting response... 200 OK\n",
      "Length: 874188 (854K) [text/plain]\n",
      "Saving to: ‘car_fuel_efficiency.csv.53’\n",
      "\n",
      "car_fuel_efficiency 100%[===================>] 853.70K  --.-KB/s    in 0.01s   \n",
      "\n",
      "2025-10-08 14:34:32 (70.0 MB/s) - ‘car_fuel_efficiency.csv.53’ saved [874188/874188]\n",
      "\n"
     ]
    }
   ],
   "source": [
    "!wget https://raw.githubusercontent.com/alexeygrigorev/datasets/master/car_fuel_efficiency.csv"
   ]
  },
  {
   "cell_type": "code",
   "execution_count": 727,
   "id": "550a7d99",
   "metadata": {},
   "outputs": [
    {
     "data": {
      "text/html": [
       "<div>\n",
       "<style scoped>\n",
       "    .dataframe tbody tr th:only-of-type {\n",
       "        vertical-align: middle;\n",
       "    }\n",
       "\n",
       "    .dataframe tbody tr th {\n",
       "        vertical-align: top;\n",
       "    }\n",
       "\n",
       "    .dataframe thead th {\n",
       "        text-align: right;\n",
       "    }\n",
       "</style>\n",
       "<table border=\"1\" class=\"dataframe\">\n",
       "  <thead>\n",
       "    <tr style=\"text-align: right;\">\n",
       "      <th></th>\n",
       "      <th>engine_displacement</th>\n",
       "      <th>num_cylinders</th>\n",
       "      <th>horsepower</th>\n",
       "      <th>vehicle_weight</th>\n",
       "      <th>acceleration</th>\n",
       "      <th>model_year</th>\n",
       "      <th>origin</th>\n",
       "      <th>fuel_type</th>\n",
       "      <th>drivetrain</th>\n",
       "      <th>num_doors</th>\n",
       "      <th>fuel_efficiency_mpg</th>\n",
       "    </tr>\n",
       "  </thead>\n",
       "  <tbody>\n",
       "    <tr>\n",
       "      <th>0</th>\n",
       "      <td>170</td>\n",
       "      <td>3.0</td>\n",
       "      <td>159.0</td>\n",
       "      <td>3413.433759</td>\n",
       "      <td>17.7</td>\n",
       "      <td>2003</td>\n",
       "      <td>Europe</td>\n",
       "      <td>Gasoline</td>\n",
       "      <td>All-wheel drive</td>\n",
       "      <td>0.0</td>\n",
       "      <td>13.231729</td>\n",
       "    </tr>\n",
       "    <tr>\n",
       "      <th>1</th>\n",
       "      <td>130</td>\n",
       "      <td>5.0</td>\n",
       "      <td>97.0</td>\n",
       "      <td>3149.664934</td>\n",
       "      <td>17.8</td>\n",
       "      <td>2007</td>\n",
       "      <td>USA</td>\n",
       "      <td>Gasoline</td>\n",
       "      <td>Front-wheel drive</td>\n",
       "      <td>0.0</td>\n",
       "      <td>13.688217</td>\n",
       "    </tr>\n",
       "    <tr>\n",
       "      <th>2</th>\n",
       "      <td>170</td>\n",
       "      <td>NaN</td>\n",
       "      <td>78.0</td>\n",
       "      <td>3079.038997</td>\n",
       "      <td>15.1</td>\n",
       "      <td>2018</td>\n",
       "      <td>Europe</td>\n",
       "      <td>Gasoline</td>\n",
       "      <td>Front-wheel drive</td>\n",
       "      <td>0.0</td>\n",
       "      <td>14.246341</td>\n",
       "    </tr>\n",
       "    <tr>\n",
       "      <th>3</th>\n",
       "      <td>220</td>\n",
       "      <td>4.0</td>\n",
       "      <td>NaN</td>\n",
       "      <td>2542.392402</td>\n",
       "      <td>20.2</td>\n",
       "      <td>2009</td>\n",
       "      <td>USA</td>\n",
       "      <td>Diesel</td>\n",
       "      <td>All-wheel drive</td>\n",
       "      <td>2.0</td>\n",
       "      <td>16.912736</td>\n",
       "    </tr>\n",
       "    <tr>\n",
       "      <th>4</th>\n",
       "      <td>210</td>\n",
       "      <td>1.0</td>\n",
       "      <td>140.0</td>\n",
       "      <td>3460.870990</td>\n",
       "      <td>14.4</td>\n",
       "      <td>2009</td>\n",
       "      <td>Europe</td>\n",
       "      <td>Gasoline</td>\n",
       "      <td>All-wheel drive</td>\n",
       "      <td>2.0</td>\n",
       "      <td>12.488369</td>\n",
       "    </tr>\n",
       "  </tbody>\n",
       "</table>\n",
       "</div>"
      ],
      "text/plain": [
       "   engine_displacement  num_cylinders  horsepower  vehicle_weight  \\\n",
       "0                  170            3.0       159.0     3413.433759   \n",
       "1                  130            5.0        97.0     3149.664934   \n",
       "2                  170            NaN        78.0     3079.038997   \n",
       "3                  220            4.0         NaN     2542.392402   \n",
       "4                  210            1.0       140.0     3460.870990   \n",
       "\n",
       "   acceleration  model_year  origin fuel_type         drivetrain  num_doors  \\\n",
       "0          17.7        2003  Europe  Gasoline    All-wheel drive        0.0   \n",
       "1          17.8        2007     USA  Gasoline  Front-wheel drive        0.0   \n",
       "2          15.1        2018  Europe  Gasoline  Front-wheel drive        0.0   \n",
       "3          20.2        2009     USA    Diesel    All-wheel drive        2.0   \n",
       "4          14.4        2009  Europe  Gasoline    All-wheel drive        2.0   \n",
       "\n",
       "   fuel_efficiency_mpg  \n",
       "0            13.231729  \n",
       "1            13.688217  \n",
       "2            14.246341  \n",
       "3            16.912736  \n",
       "4            12.488369  "
      ]
     },
     "execution_count": 727,
     "metadata": {},
     "output_type": "execute_result"
    }
   ],
   "source": [
    "df = pd.read_csv('car_fuel_efficiency.csv')\n",
    "df.head()"
   ]
  },
  {
   "cell_type": "code",
   "execution_count": 728,
   "id": "e9342219",
   "metadata": {},
   "outputs": [
    {
     "data": {
      "text/plain": [
       "Index(['engine_displacement', 'num_cylinders', 'horsepower', 'vehicle_weight',\n",
       "       'acceleration', 'model_year', 'origin', 'fuel_type', 'drivetrain',\n",
       "       'num_doors', 'fuel_efficiency_mpg'],\n",
       "      dtype='object')"
      ]
     },
     "execution_count": 728,
     "metadata": {},
     "output_type": "execute_result"
    }
   ],
   "source": [
    "df.columns\n",
    "\n"
   ]
  },
  {
   "cell_type": "code",
   "execution_count": 729,
   "id": "50a08c40",
   "metadata": {},
   "outputs": [
    {
     "data": {
      "text/plain": [
       "engine_displacement      0\n",
       "num_cylinders          482\n",
       "horsepower             708\n",
       "vehicle_weight           0\n",
       "acceleration           930\n",
       "model_year               0\n",
       "origin                   0\n",
       "fuel_type                0\n",
       "drivetrain               0\n",
       "num_doors              502\n",
       "fuel_efficiency_mpg      0\n",
       "dtype: int64"
      ]
     },
     "execution_count": 729,
     "metadata": {},
     "output_type": "execute_result"
    }
   ],
   "source": [
    "df.isnull().sum()"
   ]
  },
  {
   "cell_type": "code",
   "execution_count": 730,
   "id": "844160fe",
   "metadata": {},
   "outputs": [
    {
     "data": {
      "text/html": [
       "<div>\n",
       "<style scoped>\n",
       "    .dataframe tbody tr th:only-of-type {\n",
       "        vertical-align: middle;\n",
       "    }\n",
       "\n",
       "    .dataframe tbody tr th {\n",
       "        vertical-align: top;\n",
       "    }\n",
       "\n",
       "    .dataframe thead th {\n",
       "        text-align: right;\n",
       "    }\n",
       "</style>\n",
       "<table border=\"1\" class=\"dataframe\">\n",
       "  <thead>\n",
       "    <tr style=\"text-align: right;\">\n",
       "      <th></th>\n",
       "      <th>engine_displacement</th>\n",
       "      <th>horsepower</th>\n",
       "      <th>vehicle_weight</th>\n",
       "      <th>model_year</th>\n",
       "      <th>fuel_efficiency_mpg</th>\n",
       "    </tr>\n",
       "  </thead>\n",
       "  <tbody>\n",
       "    <tr>\n",
       "      <th>0</th>\n",
       "      <td>170</td>\n",
       "      <td>159.0</td>\n",
       "      <td>3413.433759</td>\n",
       "      <td>2003</td>\n",
       "      <td>13.231729</td>\n",
       "    </tr>\n",
       "    <tr>\n",
       "      <th>1</th>\n",
       "      <td>130</td>\n",
       "      <td>97.0</td>\n",
       "      <td>3149.664934</td>\n",
       "      <td>2007</td>\n",
       "      <td>13.688217</td>\n",
       "    </tr>\n",
       "    <tr>\n",
       "      <th>2</th>\n",
       "      <td>170</td>\n",
       "      <td>78.0</td>\n",
       "      <td>3079.038997</td>\n",
       "      <td>2018</td>\n",
       "      <td>14.246341</td>\n",
       "    </tr>\n",
       "    <tr>\n",
       "      <th>3</th>\n",
       "      <td>220</td>\n",
       "      <td>NaN</td>\n",
       "      <td>2542.392402</td>\n",
       "      <td>2009</td>\n",
       "      <td>16.912736</td>\n",
       "    </tr>\n",
       "    <tr>\n",
       "      <th>4</th>\n",
       "      <td>210</td>\n",
       "      <td>140.0</td>\n",
       "      <td>3460.870990</td>\n",
       "      <td>2009</td>\n",
       "      <td>12.488369</td>\n",
       "    </tr>\n",
       "  </tbody>\n",
       "</table>\n",
       "</div>"
      ],
      "text/plain": [
       "   engine_displacement  horsepower  vehicle_weight  model_year  \\\n",
       "0                  170       159.0     3413.433759        2003   \n",
       "1                  130        97.0     3149.664934        2007   \n",
       "2                  170        78.0     3079.038997        2018   \n",
       "3                  220         NaN     2542.392402        2009   \n",
       "4                  210       140.0     3460.870990        2009   \n",
       "\n",
       "   fuel_efficiency_mpg  \n",
       "0            13.231729  \n",
       "1            13.688217  \n",
       "2            14.246341  \n",
       "3            16.912736  \n",
       "4            12.488369  "
      ]
     },
     "execution_count": 730,
     "metadata": {},
     "output_type": "execute_result"
    }
   ],
   "source": [
    "df = df[['engine_displacement',\n",
    "'horsepower',\n",
    "'vehicle_weight',\n",
    "'model_year',\n",
    "'fuel_efficiency_mpg']]\n",
    "\n",
    "df.head()"
   ]
  },
  {
   "cell_type": "code",
   "execution_count": 731,
   "id": "bca1a13e",
   "metadata": {},
   "outputs": [
    {
     "data": {
      "text/plain": [
       "<Axes: xlabel='fuel_efficiency_mpg', ylabel='Count'>"
      ]
     },
     "execution_count": 731,
     "metadata": {},
     "output_type": "execute_result"
    },
    {
     "data": {
      "image/png": "[encoded data removed]",
      "text/plain": [
       "<Figure size 640x480 with 1 Axes>"
      ]
     },
     "metadata": {},
     "output_type": "display_data"
    }
   ],
   "source": [
    "sns.histplot(df.fuel_efficiency_mpg, bins= 50)\n",
    "# its bull curve"
   ]
  },
  {
   "cell_type": "code",
   "execution_count": 732,
   "id": "94c03a77",
   "metadata": {},
   "outputs": [
    {
     "data": {
      "text/plain": [
       "np.float64(149.0)"
      ]
     },
     "execution_count": 732,
     "metadata": {},
     "output_type": "execute_result"
    }
   ],
   "source": [
    "df['horsepower'].median()"
   ]
  },
  {
   "cell_type": "code",
   "execution_count": 733,
   "id": "c75725e2",
   "metadata": {},
   "outputs": [
    {
     "data": {
      "text/html": [
       "<div>\n",
       "<style scoped>\n",
       "    .dataframe tbody tr th:only-of-type {\n",
       "        vertical-align: middle;\n",
       "    }\n",
       "\n",
       "    .dataframe tbody tr th {\n",
       "        vertical-align: top;\n",
       "    }\n",
       "\n",
       "    .dataframe thead th {\n",
       "        text-align: right;\n",
       "    }\n",
       "</style>\n",
       "<table border=\"1\" class=\"dataframe\">\n",
       "  <thead>\n",
       "    <tr style=\"text-align: right;\">\n",
       "      <th></th>\n",
       "      <th>engine_displacement</th>\n",
       "      <th>horsepower</th>\n",
       "      <th>vehicle_weight</th>\n",
       "      <th>model_year</th>\n",
       "      <th>fuel_efficiency_mpg</th>\n",
       "    </tr>\n",
       "  </thead>\n",
       "  <tbody>\n",
       "    <tr>\n",
       "      <th>0</th>\n",
       "      <td>170</td>\n",
       "      <td>159.0</td>\n",
       "      <td>3413.433759</td>\n",
       "      <td>2003</td>\n",
       "      <td>13.231729</td>\n",
       "    </tr>\n",
       "    <tr>\n",
       "      <th>1</th>\n",
       "      <td>130</td>\n",
       "      <td>97.0</td>\n",
       "      <td>3149.664934</td>\n",
       "      <td>2007</td>\n",
       "      <td>13.688217</td>\n",
       "    </tr>\n",
       "    <tr>\n",
       "      <th>2</th>\n",
       "      <td>170</td>\n",
       "      <td>78.0</td>\n",
       "      <td>3079.038997</td>\n",
       "      <td>2018</td>\n",
       "      <td>14.246341</td>\n",
       "    </tr>\n",
       "    <tr>\n",
       "      <th>3</th>\n",
       "      <td>220</td>\n",
       "      <td>NaN</td>\n",
       "      <td>2542.392402</td>\n",
       "      <td>2009</td>\n",
       "      <td>16.912736</td>\n",
       "    </tr>\n",
       "    <tr>\n",
       "      <th>4</th>\n",
       "      <td>210</td>\n",
       "      <td>140.0</td>\n",
       "      <td>3460.870990</td>\n",
       "      <td>2009</td>\n",
       "      <td>12.488369</td>\n",
       "    </tr>\n",
       "  </tbody>\n",
       "</table>\n",
       "</div>"
      ],
      "text/plain": [
       "   engine_displacement  horsepower  vehicle_weight  model_year  \\\n",
       "0                  170       159.0     3413.433759        2003   \n",
       "1                  130        97.0     3149.664934        2007   \n",
       "2                  170        78.0     3079.038997        2018   \n",
       "3                  220         NaN     2542.392402        2009   \n",
       "4                  210       140.0     3460.870990        2009   \n",
       "\n",
       "   fuel_efficiency_mpg  \n",
       "0            13.231729  \n",
       "1            13.688217  \n",
       "2            14.246341  \n",
       "3            16.912736  \n",
       "4            12.488369  "
      ]
     },
     "execution_count": 733,
     "metadata": {},
     "output_type": "execute_result"
    }
   ],
   "source": [
    "n = len(df)\n",
    "idx = np.arange(n)\n",
    "np.random.seed(42)\n",
    "np.random.shuffle(idx)\n",
    "df.head()"
   ]
  },
  {
   "cell_type": "code",
   "execution_count": 734,
   "id": "a5fbf067",
   "metadata": {},
   "outputs": [
    {
     "name": "stdout",
     "output_type": "stream",
     "text": [
      "9704\n",
      "1940\n",
      "9704\n"
     ]
    }
   ],
   "source": [
    "# Dividing number of records\n",
    "n = len(df)\n",
    "print(n)\n",
    "\n",
    "n_test = int(n*0.2)\n",
    "n_val = int(n*0.2)\n",
    "n_train = n - (n_val + n_test)\n",
    "\n",
    "print(n_test)\n",
    "print(n_test + n_val + n_train)"
   ]
  },
  {
   "cell_type": "code",
   "execution_count": 735,
   "id": "f1b7e08c",
   "metadata": {},
   "outputs": [],
   "source": [
    "df_train = df.iloc[idx[:n_train]]\n",
    "df_val =  df.iloc [idx[n_train : n_train + n_val ]]\n",
    "df_test = df.iloc [idx[ n_train + n_val :]]"
   ]
  },
  {
   "cell_type": "code",
   "execution_count": 736,
   "id": "427e9c70",
   "metadata": {},
   "outputs": [
    {
     "name": "stdout",
     "output_type": "stream",
     "text": [
      "1940\n"
     ]
    }
   ],
   "source": [
    "y_train = df_train.fuel_efficiency_mpg.values\n",
    "y_val = df_val.fuel_efficiency_mpg.values\n",
    "y_test = df_test.fuel_efficiency_mpg.values\n",
    "\n",
    "print(len(y_val))\n",
    "\n",
    "\n",
    "del df_train['fuel_efficiency_mpg']\n",
    "del df_val['fuel_efficiency_mpg']\n",
    "del df_test['fuel_efficiency_mpg']"
   ]
  },
  {
   "cell_type": "code",
   "execution_count": 737,
   "id": "b9ad950a",
   "metadata": {},
   "outputs": [],
   "source": [
    "def train_linear_regression(X, y):\n",
    "    ones = np.ones(X.shape[0])\n",
    "    X = np.column_stack([ones, X])\n",
    "\n",
    "    XTX = X.T.dot(X)\n",
    "    XTX_inv = np.linalg.inv(XTX)\n",
    "    w = XTX_inv.dot(X.T).dot(y)\n",
    "    \n",
    "    return w[0], w[1:]"
   ]
  },
  {
   "cell_type": "code",
   "execution_count": 738,
   "id": "7ac9d211",
   "metadata": {},
   "outputs": [],
   "source": [
    "def prepare_X(df):\n",
    "    df_num = df\n",
    "    df_num = df_num.fillna(0)\n",
    "    X = df_num.values\n",
    "    return X"
   ]
  },
  {
   "cell_type": "code",
   "execution_count": 739,
   "id": "b9e105e9",
   "metadata": {},
   "outputs": [],
   "source": [
    "X_train = prepare_X(df_train)\n",
    "w_0, w = train_linear_regression(X_train, y_train)"
   ]
  },
  {
   "cell_type": "code",
   "execution_count": 740,
   "id": "edd0fc65",
   "metadata": {},
   "outputs": [
    {
     "name": "stdout",
     "output_type": "stream",
     "text": [
      "validation: 0.5173782638844466\n"
     ]
    }
   ],
   "source": [
    "X_val = prepare_X(df_val)\n",
    "y_pred = w_0 + X_val.dot(w)\n",
    "print('validation:', rmse(y_val, y_pred))"
   ]
  },
  {
   "cell_type": "code",
   "execution_count": 741,
   "id": "c97eb97d",
   "metadata": {},
   "outputs": [
    {
     "data": {
      "image/png": "[encoded data removed]",
      "text/plain": [
       "<Figure size 600x400 with 1 Axes>"
      ]
     },
     "metadata": {},
     "output_type": "display_data"
    }
   ],
   "source": [
    "plt.figure(figsize=(6, 4))\n",
    "\n",
    "sns.histplot(y_train, label='target', color='#222222', alpha=0.6, bins=40)\n",
    "sns.histplot(y_pred, label='prediction', color='#aaaaaa', alpha=0.8, bins=40)\n",
    "\n",
    "plt.legend()\n",
    "\n",
    "plt.ylabel('Frequency')\n",
    "plt.xlabel('Log(Price + 1)')\n",
    "plt.title('Predictions vs actual distribution')\n",
    "\n",
    "plt.show()"
   ]
  },
  {
   "cell_type": "code",
   "execution_count": 742,
   "id": "9014a965",
   "metadata": {},
   "outputs": [],
   "source": [
    "def rmse(y, y_pred):\n",
    "    error = y_pred - y\n",
    "    mse = (error ** 2).mean()\n",
    "    return np.sqrt(mse)"
   ]
  },
  {
   "cell_type": "code",
   "execution_count": 743,
   "id": "b31d811c",
   "metadata": {},
   "outputs": [
    {
     "name": "stdout",
     "output_type": "stream",
     "text": [
      "validation: 0.5173782638844466\n"
     ]
    }
   ],
   "source": [
    " \n",
    "\n",
    "X_val = prepare_X(df_val)\n",
    "y_pred = w_0 + X_val.dot(w)\n",
    "print('validation:', rmse(y_val, y_pred))\n"
   ]
  },
  {
   "cell_type": "code",
   "execution_count": 744,
   "id": "aee85128",
   "metadata": {},
   "outputs": [],
   "source": [
    "def prepare_X_Mean(df):\n",
    "    df_num = df.copy()                  # avoid modifying original df\n",
    "    df_num = df_num.fillna(df_num.mean())  # fill NaN with column mean\n",
    "    X = df_num.values\n",
    "    return X"
   ]
  },
  {
   "cell_type": "code",
   "execution_count": 745,
   "id": "c69ccfab",
   "metadata": {},
   "outputs": [],
   "source": [
    "X_train = prepare_X_Mean(df_train)\n",
    "w_0, w = train_linear_regression(X_train, y_train)"
   ]
  },
  {
   "cell_type": "code",
   "execution_count": 746,
   "id": "273dd49a",
   "metadata": {},
   "outputs": [
    {
     "name": "stdout",
     "output_type": "stream",
     "text": [
      "validation: 0.4636236995020941\n"
     ]
    }
   ],
   "source": [
    "X_val = prepare_X_Mean(df_val)\n",
    "y_pred = w_0 + X_val.dot(w)\n",
    "print('validation:', rmse(y_val, y_pred))\n"
   ]
  },
  {
   "cell_type": "code",
   "execution_count": 747,
   "id": "fc04514a",
   "metadata": {},
   "outputs": [],
   "source": [
    "def train_linear_regression_reg(X, y, r=0.0):\n",
    "    ones = np.ones(X.shape[0])\n",
    "    X = np.column_stack([ones, X])\n",
    "\n",
    "    XTX = X.T.dot(X)\n",
    "    reg = r * np.eye(XTX.shape[0])\n",
    "    XTX = XTX + reg\n",
    "\n",
    "    XTX_inv = np.linalg.inv(XTX)\n",
    "    w = XTX_inv.dot(X.T).dot(y)\n",
    "    \n",
    "    return w[0], w[1:]"
   ]
  },
  {
   "cell_type": "code",
   "execution_count": 748,
   "id": "5634b9a7",
   "metadata": {},
   "outputs": [],
   "source": [
    "X_train = prepare_X(df_train) # filling enpty value with 0\n"
   ]
  },
  {
   "cell_type": "code",
   "execution_count": 749,
   "id": "a04210f5",
   "metadata": {},
   "outputs": [
    {
     "name": "stdout",
     "output_type": "stream",
     "text": [
      "     0 0.52\n",
      "  0.01 0.52\n",
      "   0.1 0.52\n",
      "     1 0.52\n",
      "     5 0.52\n",
      "    10 0.52\n",
      "   100 0.52\n"
     ]
    }
   ],
   "source": [
    "X_train = prepare_X(df_train)\n",
    "X_val = prepare_X(df_val)\n",
    "\n",
    "for r in [0, 0.01, 0.1, 1, 5, 10, 100]:\n",
    "    w_0, w = train_linear_regression_reg(X_train, y_train, r=r)\n",
    "    y_pred = w_0 + X_val.dot(w)\n",
    "    print('%6s' % r, round(rmse(y_val, y_pred), 2))"
   ]
  },
  {
   "cell_type": "code",
   "execution_count": 750,
   "id": "74e25261",
   "metadata": {},
   "outputs": [
    {
     "data": {
      "text/plain": [
       "\"\\nn_new = len(df)\\nprint(n_new)\\n\\nn_new_test = int(n_new * 0.2)\\nn_new_val = int(n_new * 0.2)\\nn_new_train = n_new - (n_new_val + n_new_test)\\n\\nrmse_vals = []  # array to store RMSE of each iteration\\n\\nfor s in range(10):  # seeds 0 to 9\\n\\n    # using seed\\n    idx_new = np.arange(n_new)\\n    np.random.seed(s)\\n    np.random.shuffle(idx_new)\\n\\n    # dividing the data\\n    df_train_new = df.iloc[idx_new[:n_new_train]].copy()\\n    df_val_new = df.iloc[idx_new[n_new_train:n_new_train + n_new_val]].copy()\\n    df_test_new = df.iloc[idx_new[n_new_train + n_new_val:]].copy()\\n\\n    # targets\\n    y_train_new = df_train_new.fuel_efficiency_mpg.values\\n    y_val_new = df_val_new.fuel_efficiency_mpg.values\\n\\n    # drop target from features\\n    df_train_new.drop(columns=['fuel_efficiency_mpg'], inplace=True)\\n    df_val_new.drop(columns=['fuel_efficiency_mpg'], inplace=True)\\n    df_test_new.drop(columns=['fuel_efficiency_mpg'], inplace=True)\\n\\n    # prepare X\\n    X_train_new = prepare_X(df_train_new)\\n    X_val_new = prepare_X(df_val_new)\\n\\n    # train model\\n    w_0_new, w_new = train_linear_regression(X_train_new, y_train_new)\\n\\n    # predict on validation\\n    y_pred_new = w_0_new + X_val_new.dot(w_new)\\n\\n    # calculate RMSE and store\\n    rmse_val = rmse(y_val_new, y_pred_new)\\n    rmse_val_rounded = round(rmse_val, 3)  # round to 3 digits\\n    rmse_vals.append(rmse_val_rounded)      # store rounded value\\n    print(f'Iteration {s}, validation RMSE: {rmse_val_rounded}')\\n\\n# after all iterations, calculate standard deviation\\nrmse_std = round(np.std(rmse_vals), 3)\\nprint('Standard deviation of RMSE:', rmse_std)\\n\""
      ]
     },
     "execution_count": 750,
     "metadata": {},
     "output_type": "execute_result"
    }
   ],
   "source": [
    "# Dividing number of records\n",
    "\"\"\"\n",
    "n_new = len(df)\n",
    "print(n_new)\n",
    "\n",
    "n_new_test = int(n_new * 0.2)\n",
    "n_new_val = int(n_new * 0.2)\n",
    "n_new_train = n_new - (n_new_val + n_new_test)\n",
    "\n",
    "rmse_vals = []  # array to store RMSE of each iteration\n",
    "\n",
    "for s in range(10):  # seeds 0 to 9\n",
    "\n",
    "    # using seed\n",
    "    idx_new = np.arange(n_new)\n",
    "    np.random.seed(s)\n",
    "    np.random.shuffle(idx_new)\n",
    "\n",
    "    # dividing the data\n",
    "    df_train_new = df.iloc[idx_new[:n_new_train]].copy()\n",
    "    df_val_new = df.iloc[idx_new[n_new_train:n_new_train + n_new_val]].copy()\n",
    "    df_test_new = df.iloc[idx_new[n_new_train + n_new_val:]].copy()\n",
    "\n",
    "    # targets\n",
    "    y_train_new = df_train_new.fuel_efficiency_mpg.values\n",
    "    y_val_new = df_val_new.fuel_efficiency_mpg.values\n",
    "\n",
    "    # drop target from features\n",
    "    df_train_new.drop(columns=['fuel_efficiency_mpg'], inplace=True)\n",
    "    df_val_new.drop(columns=['fuel_efficiency_mpg'], inplace=True)\n",
    "    df_test_new.drop(columns=['fuel_efficiency_mpg'], inplace=True)\n",
    "\n",
    "    # prepare X\n",
    "    X_train_new = prepare_X(df_train_new)\n",
    "    X_val_new = prepare_X(df_val_new)\n",
    "\n",
    "    # train model\n",
    "    w_0_new, w_new = train_linear_regression(X_train_new, y_train_new)\n",
    "\n",
    "    # predict on validation\n",
    "    y_pred_new = w_0_new + X_val_new.dot(w_new)\n",
    "\n",
    "    # calculate RMSE and store\n",
    "    rmse_val = rmse(y_val_new, y_pred_new)\n",
    "    rmse_val_rounded = round(rmse_val, 3)  # round to 3 digits\n",
    "    rmse_vals.append(rmse_val_rounded)      # store rounded value\n",
    "    print(f'Iteration {s}, validation RMSE: {rmse_val_rounded}')\n",
    "\n",
    "# after all iterations, calculate standard deviation\n",
    "rmse_std = round(np.std(rmse_vals), 3)\n",
    "print('Standard deviation of RMSE:', rmse_std)\n",
    "\"\"\"\n"
   ]
  },
  {
   "cell_type": "code",
   "execution_count": null,
   "id": "f2df54f0",
   "metadata": {},
   "outputs": [
    {
     "name": "stdout",
     "output_type": "stream",
     "text": [
      "9704\n",
      "Iteration 9, validation RMSE: 3.501\n",
      "Standard deviation of RMSE: 0.0\n"
     ]
    }
   ],
   "source": [
    "# Dividing number of records\n",
    "n_new = len(df)\n",
    "print(n_new)\n",
    "\n",
    "n_new_test = int(n_new * 0.2)\n",
    "n_new_val = int(n_new * 0.2)\n",
    "n_new_train = n_new - (n_new_val + n_new_test)\n",
    "\n",
    "\n",
    "\n",
    "rmse_vals = []  # array to store RMSE of each iteration\n",
    "\n",
    "seed = [9]\n",
    "for s in seed:\n",
    "\n",
    "    # using seed\n",
    "    idx_new = np.arange(n_new)\n",
    "    np.random.seed(s)\n",
    "    np.random.shuffle(idx_new)\n",
    "\n",
    "    # dividing the data\n",
    "    df_train_new = df.iloc[idx_new[:n_new_train]].copy()\n",
    "    df_val_new = df.iloc[idx_new[n_new_train:n_new_train + n_new_val]].copy()\n",
    "    df_test_new = df.iloc[idx_new[n_new_train + n_new_val:]].copy()\n",
    "\n",
    "    # Combine features\n",
    "    df_train_val_new = pd.concat([df_train_new, df_val_new], axis=0)\n",
    "    df.head()\n",
    "\n",
    "    # targets\n",
    "    y_train_new = df_train_new.fuel_efficiency_mpg.values\n",
    "    y_val_new = df_val_new.fuel_efficiency_mpg.values\n",
    "    y_test_new = df_test_new.fuel_efficiency_mpg.values\n",
    "    # Combine targets\n",
    "    y_train_val_new = np.concatenate([y_train_new, y_val_new])\n",
    "\n",
    "    # drop target from features\n",
    "    df_train_new.drop(columns=['fuel_efficiency_mpg'], inplace=True)\n",
    "    df_val_new.drop(columns=['fuel_efficiency_mpg'], inplace=True)\n",
    "    df_test_new.drop(columns=['fuel_efficiency_mpg'], inplace=True)\n",
    "    df_train_val_new.drop(columns=['fuel_efficiency_mpg'], inplace=True)\n",
    "\n",
    "    # prepare X\n",
    "    X_train_val_new = prepare_X(df_train_val_new)\n",
    "\n",
    "    X_test_new = prepare_X(df_test_new)\n",
    "\n",
    "    # train model\n",
    "    w_0_new, w_new = train_linear_regression_reg(X_train_val_new, y_train_val_new, r = 0.001)\n",
    "\n",
    "    # predict on validation test\n",
    "    y_pred_new = w_0_new + X_test_new.dot(w_new)\n",
    "\n",
    "    # calculate RMSE and store\n",
    "    rmse_val = rmse(y_test_new, y_pred_new)\n",
    "    rmse_val_rounded = round(rmse_val, 3)  # round to 3 digits\n",
    "    rmse_vals.append(rmse_val_rounded)      # store rounded value\n",
    "    print(f'Iteration {s}, validation RMSE: {rmse_val_rounded}')\n",
    "\n",
    "# after all iterations, calculate standard deviation\n",
    "rmse_std = round(np.std(rmse_vals), 3)\n",
    "print('Standard deviation of RMSE:', rmse_std)\n"
   ]
  }
 ],
 "metadata": {
  "kernelspec": {
   "display_name": "Python 3",
   "language": "python",
   "name": "python3"
  },
  "language_info": {
   "codemirror_mode": {
    "name": "ipython",
    "version": 3
   },
   "file_extension": ".py",
   "mimetype": "text/x-python",
   "name": "python",
   "nbconvert_exporter": "python",
   "pygments_lexer": "ipython3",
   "version": "3.12.1"
  }
 },
 "nbformat": 4,
 "nbformat_minor": 5
}
